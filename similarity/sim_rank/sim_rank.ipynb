{
 "cells": [
  {
   "cell_type": "code",
   "execution_count": 1,
   "metadata": {},
   "outputs": [],
   "source": [
    "import numpy as np\n",
    "from numpy import matrix"
   ]
  },
  {
   "cell_type": "code",
   "execution_count": 2,
   "metadata": {
    "scrolled": false
   },
   "outputs": [
    {
     "data": {
      "text/plain": [
       "[('pc', 'hp.com'), ('pc', 'hp.com')]"
      ]
     },
     "execution_count": 2,
     "metadata": {},
     "output_type": "execute_result"
    }
   ],
   "source": [
    "path = './data/sample1.txt'\n",
    "with open(path, 'r') as log_fp:\n",
    "    logs = [log.strip() for log in log_fp]\n",
    "    pass\n",
    "logs_tuple = [tuple(log.split(',')) for log in logs]\n",
    "logs_tuple[:2]"
   ]
  },
  {
   "cell_type": "code",
   "execution_count": 3,
   "metadata": {},
   "outputs": [
    {
     "data": {
      "text/plain": [
       "['tv', 'digital camera', 'camera', 'pc', 'flower']"
      ]
     },
     "execution_count": 3,
     "metadata": {},
     "output_type": "execute_result"
    }
   ],
   "source": [
    "queries = list(set([log[0] for log in logs_tuple]))\n",
    "queries"
   ]
  },
  {
   "cell_type": "code",
   "execution_count": 4,
   "metadata": {},
   "outputs": [
    {
     "data": {
      "text/plain": [
       "['teleflora.com', 'orchids.com', 'bestbuy.com', 'hp.com']"
      ]
     },
     "execution_count": 4,
     "metadata": {},
     "output_type": "execute_result"
    }
   ],
   "source": [
    "ads = list(set([log[1] for log in logs_tuple]))\n",
    "ads"
   ]
  },
  {
   "cell_type": "code",
   "execution_count": 5,
   "metadata": {},
   "outputs": [
    {
     "data": {
      "text/plain": [
       "matrix([[0., 0., 0., 0.],\n",
       "        [0., 0., 0., 0.],\n",
       "        [0., 0., 0., 0.],\n",
       "        [0., 0., 0., 0.],\n",
       "        [0., 0., 0., 0.]])"
      ]
     },
     "execution_count": 5,
     "metadata": {},
     "output_type": "execute_result"
    }
   ],
   "source": [
    "# Graph means the relations number\n",
    "graph = np.matrix(np.zeros([len(queries), len(ads)]))\n",
    "graph"
   ]
  },
  {
   "cell_type": "code",
   "execution_count": 6,
   "metadata": {},
   "outputs": [
    {
     "name": "stdout",
     "output_type": "stream",
     "text": [
      "[[ 0.  0. 15.  0.]\n",
      " [ 0.  0.  7. 30.]\n",
      " [ 0.  0.  5. 20.]\n",
      " [ 0.  0.  0. 10.]\n",
      " [16. 15.  0.  0.]]\n",
      "query_sim: \n",
      " [[1. 0. 0. 0. 0.]\n",
      " [0. 1. 0. 0. 0.]\n",
      " [0. 0. 1. 0. 0.]\n",
      " [0. 0. 0. 1. 0.]\n",
      " [0. 0. 0. 0. 1.]]\n",
      "ad_sim: \n",
      " [[1. 0. 0. 0.]\n",
      " [0. 1. 0. 0.]\n",
      " [0. 0. 1. 0.]\n",
      " [0. 0. 0. 1.]]\n"
     ]
    }
   ],
   "source": [
    "for log in logs_tuple:\n",
    "    query = log[0]\n",
    "    ad = log[1]\n",
    "    q_i = queries.index(query)\n",
    "    a_j = ads.index(ad)\n",
    "    graph[q_i, a_j] += 1\n",
    "    pass\n",
    "print(graph)\n",
    "\n",
    "query_sim = matrix(np.identity(len(queries)))\n",
    "ad_sim = matrix(np.identity(len(ads)))\n",
    "print('query_sim: \\n', query_sim)\n",
    "print('ad_sim: \\n', ad_sim)"
   ]
  },
  {
   "cell_type": "code",
   "execution_count": 7,
   "metadata": {},
   "outputs": [
    {
     "data": {
      "text/plain": [
       "matrix([[ 0.,  0.,  5., 20.]])"
      ]
     },
     "execution_count": 7,
     "metadata": {},
     "output_type": "execute_result"
    }
   ],
   "source": [
    "def get_ads_num(query):\n",
    "    q_i = queries.index(query)\n",
    "    return graph[q_i]\n",
    "    pass\n",
    "get_ads_num('camera')"
   ]
  },
  {
   "cell_type": "code",
   "execution_count": 8,
   "metadata": {},
   "outputs": [
    {
     "data": {
      "text/plain": [
       "matrix([[ 0.,  0.,  0.,  0., 15.]])"
      ]
     },
     "execution_count": 8,
     "metadata": {},
     "output_type": "execute_result"
    }
   ],
   "source": [
    "def get_queries_num(ad):\n",
    "    a_j = ads.index(ad)\n",
    "#     return graph[:, a_j]\n",
    "    return graph.transpose()[a_j]\n",
    "    pass\n",
    "get_queries_num('orchids.com')"
   ]
  },
  {
   "cell_type": "code",
   "execution_count": 9,
   "metadata": {},
   "outputs": [
    {
     "data": {
      "text/plain": [
       "['bestbuy.com', 'hp.com']"
      ]
     },
     "execution_count": 9,
     "metadata": {},
     "output_type": "execute_result"
    }
   ],
   "source": [
    "def get_ads(query):\n",
    "    series = get_ads_num(query).tolist()[0]\n",
    "    return [ ads[x] for x in range(len(series)) if series[x] > 0]\n",
    "    pass\n",
    "get_ads('camera')"
   ]
  },
  {
   "cell_type": "code",
   "execution_count": 10,
   "metadata": {},
   "outputs": [
    {
     "data": {
      "text/plain": [
       "['digital camera', 'camera', 'pc']"
      ]
     },
     "execution_count": 10,
     "metadata": {},
     "output_type": "execute_result"
    }
   ],
   "source": [
    "def get_queries(ad):\n",
    "    series = get_queries_num(ad).tolist()[0]\n",
    "    return [queries[x] for x in range(len(series)) if series[x] > 0]\n",
    "    pass\n",
    "get_queries('hp.com')"
   ]
  },
  {
   "cell_type": "code",
   "execution_count": 11,
   "metadata": {},
   "outputs": [
    {
     "data": {
      "text/plain": [
       "0.0021333333333333334"
      ]
     },
     "execution_count": 11,
     "metadata": {},
     "output_type": "execute_result"
    }
   ],
   "source": [
    "def query_simrank(q1, q2, C):\n",
    "    if q1 == q2: return 1\n",
    "    \n",
    "    # 惩罚项\n",
    "    prefix = C / (get_ads_num(q1).sum() * get_ads_num(q2).sum())\n",
    "    postfix = 0\n",
    "    for ad_i in get_ads(q1):\n",
    "        for ad_j in get_ads(q2):\n",
    "            i = ads.index(ad_i)\n",
    "            j = ads.index(ad_j)\n",
    "            postfix += ad_sim[i, j]\n",
    "            pass\n",
    "        pass\n",
    "    return prefix * postfix\n",
    "    pass\n",
    "query_simrank('tv', 'camera', 0.8)"
   ]
  },
  {
   "cell_type": "code",
   "execution_count": 15,
   "metadata": {},
   "outputs": [
    {
     "data": {
      "text/plain": [
       "0.0"
      ]
     },
     "execution_count": 15,
     "metadata": {},
     "output_type": "execute_result"
    }
   ],
   "source": [
    "def ad_simrank(a1, a2, C):\n",
    "    if a1 == a2: return 1\n",
    "    \n",
    "    # 惩罚项\n",
    "    prefix = C / (get_queries_num(a1).sum() * get_queries_num(a2).sum())\n",
    "    postfix = 0\n",
    "    for q_i in get_queries(a1):\n",
    "        for q_j in get_queries(a2):\n",
    "            i = queries.index(q_i)\n",
    "            j = queries.index(q_j)\n",
    "            postfix += query_sim[i, j]\n",
    "            pass\n",
    "        pass\n",
    "    return prefix * postfix\n",
    "    pass\n",
    "ad_simrank('orchids.com', 'hp.com', C=0.8)"
   ]
  },
  {
   "cell_type": "code",
   "execution_count": 19,
   "metadata": {},
   "outputs": [],
   "source": [
    "def simrank(C=0.8, times=1):\n",
    "    global query_sim, ad_sim\n",
    "    new_query_sim = matrix(np.identity(len(queries)))\n",
    "    for qi in queries:\n",
    "        for qj in queries:\n",
    "            i = queries.index(qi)\n",
    "            j = queries.index(qj)\n",
    "            new_query_sim[i, j] = query_simrank(qi, qj, C)\n",
    "            pass\n",
    "        pass\n",
    "    \n",
    "    new_ad_sim = matrix(np.identity(len(ads)))\n",
    "    for ai in ads:\n",
    "        for aj in ads:\n",
    "            i = ads.index(ai)\n",
    "            j = ads.index(aj)\n",
    "            new_ad_sim[i, j] = ad_simrank(ai, aj, C)\n",
    "            pass\n",
    "        pass\n",
    "    query_sim = new_query_sim\n",
    "    ad_sim = new_ad_sim\n",
    "    pass\n",
    "simrank()\n"
   ]
  },
  {
   "cell_type": "code",
   "execution_count": 20,
   "metadata": {},
   "outputs": [
    {
     "data": {
      "text/plain": [
       "matrix([[1.        , 0.00144144, 0.00213333, 0.        , 0.        ],\n",
       "        [0.00144144, 1.        , 0.00172973, 0.00216216, 0.        ],\n",
       "        [0.00213333, 0.00172973, 1.        , 0.0032    , 0.        ],\n",
       "        [0.        , 0.00216216, 0.0032    , 1.        , 0.        ],\n",
       "        [0.        , 0.        , 0.        , 0.        , 1.        ]])"
      ]
     },
     "execution_count": 20,
     "metadata": {},
     "output_type": "execute_result"
    }
   ],
   "source": [
    "query_sim"
   ]
  },
  {
   "cell_type": "code",
   "execution_count": 21,
   "metadata": {},
   "outputs": [
    {
     "data": {
      "text/plain": [
       "matrix([[1.00000000e+00, 3.33333333e-03, 0.00000000e+00, 0.00000000e+00],\n",
       "        [3.33333333e-03, 1.00000000e+00, 0.00000000e+00, 0.00000000e+00],\n",
       "        [0.00000000e+00, 0.00000000e+00, 1.00000000e+00, 9.87654321e-04],\n",
       "        [0.00000000e+00, 0.00000000e+00, 9.87654321e-04, 1.00000000e+00]])"
      ]
     },
     "execution_count": 21,
     "metadata": {},
     "output_type": "execute_result"
    }
   ],
   "source": [
    "ad_sim"
   ]
  },
  {
   "cell_type": "code",
   "execution_count": null,
   "metadata": {},
   "outputs": [],
   "source": []
  }
 ],
 "metadata": {
  "kernelspec": {
   "display_name": "Python 3",
   "language": "python",
   "name": "python3"
  },
  "language_info": {
   "codemirror_mode": {
    "name": "ipython",
    "version": 3
   },
   "file_extension": ".py",
   "mimetype": "text/x-python",
   "name": "python",
   "nbconvert_exporter": "python",
   "pygments_lexer": "ipython3",
   "version": "3.6.4"
  }
 },
 "nbformat": 4,
 "nbformat_minor": 2
}
