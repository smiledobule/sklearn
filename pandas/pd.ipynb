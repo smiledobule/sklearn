{
 "cells": [
  {
   "cell_type": "code",
   "execution_count": 1,
   "metadata": {},
   "outputs": [],
   "source": [
    "\"\"\"\n",
    "https://pandas.pydata.org/pandas-docs/stable/user_guide/10min.html\n",
    "\"\"\"\n",
    "\n",
    "# pandas\n",
    "import numpy as np\n",
    "import pandas as pd\n",
    "from pandas import DataFrame"
   ]
  },
  {
   "cell_type": "code",
   "execution_count": 2,
   "metadata": {},
   "outputs": [
    {
     "name": "stdout",
     "output_type": "stream",
     "text": [
      "(4,) RangeIndex(start=0, stop=4, step=1) RangeIndex(start=0, stop=4, step=1)\n",
      "0    1\n",
      "1    2\n",
      "2    3\n",
      "3    4\n",
      "dtype: int64\n"
     ]
    }
   ],
   "source": [
    "# 数据结构\n",
    "# 基本原则：数据对齐是内在的\n",
    "\n",
    "# Series\n",
    "series_data = [1, 2, 3, 4]\n",
    "se = pd.Series(series_data)\n",
    "print(se.shape, se.index, se.keys())\n",
    "print(se)"
   ]
  },
  {
   "cell_type": "code",
   "execution_count": 3,
   "metadata": {},
   "outputs": [
    {
     "name": "stdout",
     "output_type": "stream",
     "text": [
      "******************** head ********************\n",
      "          0         1         2         3         4\n",
      "0  0.850338  0.827350  0.761072  0.172138  0.154913\n",
      "1  0.210793  0.194477  0.851307  0.978129  0.093404\n",
      "2  0.786064  0.660980  0.126670  0.420458  0.061129\n",
      "3  0.562560  0.691917  0.039514  0.725394  0.829249\n",
      "4  0.670200  0.555227  0.986620  0.494989  0.323637\n",
      "******************** tail ********************\n",
      "          0         1         2         3         4\n",
      "2  0.786064  0.660980  0.126670  0.420458  0.061129\n",
      "3  0.562560  0.691917  0.039514  0.725394  0.829249\n",
      "4  0.670200  0.555227  0.986620  0.494989  0.323637\n",
      "******************** describe ********************\n",
      "              0         1         2         3         4\n",
      "count  5.000000  5.000000  5.000000  5.000000  5.000000\n",
      "mean   0.615991  0.585990  0.553037  0.558222  0.292466\n",
      "std    0.251904  0.239441  0.437531  0.306719  0.316690\n",
      "min    0.210793  0.194477  0.039514  0.172138  0.061129\n",
      "25%    0.562560  0.555227  0.126670  0.420458  0.093404\n",
      "50%    0.670200  0.660980  0.761072  0.494989  0.154913\n",
      "75%    0.786064  0.691917  0.851307  0.725394  0.323637\n",
      "max    0.850338  0.827350  0.986620  0.978129  0.829249\n",
      "******************** sort by axis ********************\n",
      "          4         3         2         1         0\n",
      "0  0.154913  0.172138  0.761072  0.827350  0.850338\n",
      "1  0.093404  0.978129  0.851307  0.194477  0.210793\n",
      "2  0.061129  0.420458  0.126670  0.660980  0.786064\n",
      "3  0.829249  0.725394  0.039514  0.691917  0.562560\n",
      "4  0.323637  0.494989  0.986620  0.555227  0.670200\n"
     ]
    }
   ],
   "source": [
    "data = np.random.random((5, 5))\n",
    "data_df = DataFrame(data)\n",
    "print('*'* 20, 'head', '*'* 20)\n",
    "print(data_df.head())\n",
    "print('*'* 20, 'tail', '*'* 20)\n",
    "print(data_df.tail(3))\n",
    "print('*'* 20, 'describe', '*'* 20)\n",
    "print(data_df.describe())\n",
    "print('*'* 20, 'sort by axis', '*'* 20)\n",
    "print(data_df.sort_index(axis=1, ascending=False))"
   ]
  },
  {
   "cell_type": "code",
   "execution_count": 4,
   "metadata": {},
   "outputs": [
    {
     "name": "stdout",
     "output_type": "stream",
     "text": [
      "******************** sort by axis ********************\n",
      "          3         2         0         1         4\n",
      "0  0.172138  0.761072  0.850338  0.827350  0.154913\n",
      "1  0.978129  0.851307  0.210793  0.194477  0.093404\n",
      "2  0.420458  0.126670  0.786064  0.660980  0.061129\n",
      "3  0.725394  0.039514  0.562560  0.691917  0.829249\n",
      "4  0.494989  0.986620  0.670200  0.555227  0.323637\n"
     ]
    }
   ],
   "source": [
    "print('*'* 20, 'sort by axis', '*'* 20)\n",
    "print(data_df.sort_values(by=1, ascending=False, axis=1))"
   ]
  },
  {
   "cell_type": "code",
   "execution_count": 5,
   "metadata": {},
   "outputs": [
    {
     "name": "stdout",
     "output_type": "stream",
     "text": [
      "0    0.827350\n",
      "1    0.194477\n",
      "2    0.660980\n",
      "3    0.691917\n",
      "4    0.555227\n",
      "Name: B, dtype: float64\n",
      "0    0.827350\n",
      "1    0.194477\n",
      "2    0.660980\n",
      "3    0.691917\n",
      "4    0.555227\n",
      "Name: B, dtype: float64\n"
     ]
    }
   ],
   "source": [
    "# select\n",
    "# 方法：.at .iat .loc .iloc\n",
    "\n",
    "\n",
    "# 选择列 \n",
    "# 方法：df['col'] 等价于df.col\n",
    "data_df = data_df.rename(columns={1: 'B'})\n",
    "print(data_df['B'])\n",
    "print(data_df.B)\n"
   ]
  },
  {
   "cell_type": "code",
   "execution_count": 6,
   "metadata": {},
   "outputs": [
    {
     "data": {
      "text/plain": [
       "array([[0.85033818, 0.8273504 , 0.76107167, 0.1721379 , 0.15491268],\n",
       "       [0.21079329, 0.19447721, 0.85130732, 0.97812869, 0.09340369]])"
      ]
     },
     "execution_count": 6,
     "metadata": {},
     "output_type": "execute_result"
    }
   ],
   "source": [
    "# [] 切片行\n",
    "data[0:2]\n"
   ]
  },
  {
   "cell_type": "code",
   "execution_count": 7,
   "metadata": {},
   "outputs": [
    {
     "data": {
      "text/plain": [
       "0    0.850338\n",
       "B    0.827350\n",
       "2    0.761072\n",
       "3    0.172138\n",
       "4    0.154913\n",
       "Name: 0, dtype: float64"
      ]
     },
     "execution_count": 7,
     "metadata": {},
     "output_type": "execute_result"
    }
   ],
   "source": [
    "# 按标签选择\n",
    "\n",
    "# 选取一行数据\n",
    "data_df.loc[0]"
   ]
  },
  {
   "cell_type": "code",
   "execution_count": 8,
   "metadata": {},
   "outputs": [
    {
     "data": {
      "text/html": [
       "<div>\n",
       "<style scoped>\n",
       "    .dataframe tbody tr th:only-of-type {\n",
       "        vertical-align: middle;\n",
       "    }\n",
       "\n",
       "    .dataframe tbody tr th {\n",
       "        vertical-align: top;\n",
       "    }\n",
       "\n",
       "    .dataframe thead th {\n",
       "        text-align: right;\n",
       "    }\n",
       "</style>\n",
       "<table border=\"1\" class=\"dataframe\">\n",
       "  <thead>\n",
       "    <tr style=\"text-align: right;\">\n",
       "      <th></th>\n",
       "      <th>B</th>\n",
       "      <th>2</th>\n",
       "    </tr>\n",
       "  </thead>\n",
       "  <tbody>\n",
       "    <tr>\n",
       "      <th>0</th>\n",
       "      <td>0.827350</td>\n",
       "      <td>0.761072</td>\n",
       "    </tr>\n",
       "    <tr>\n",
       "      <th>1</th>\n",
       "      <td>0.194477</td>\n",
       "      <td>0.851307</td>\n",
       "    </tr>\n",
       "    <tr>\n",
       "      <th>2</th>\n",
       "      <td>0.660980</td>\n",
       "      <td>0.126670</td>\n",
       "    </tr>\n",
       "    <tr>\n",
       "      <th>3</th>\n",
       "      <td>0.691917</td>\n",
       "      <td>0.039514</td>\n",
       "    </tr>\n",
       "    <tr>\n",
       "      <th>4</th>\n",
       "      <td>0.555227</td>\n",
       "      <td>0.986620</td>\n",
       "    </tr>\n",
       "  </tbody>\n",
       "</table>\n",
       "</div>"
      ],
      "text/plain": [
       "          B         2\n",
       "0  0.827350  0.761072\n",
       "1  0.194477  0.851307\n",
       "2  0.660980  0.126670\n",
       "3  0.691917  0.039514\n",
       "4  0.555227  0.986620"
      ]
     },
     "execution_count": 8,
     "metadata": {},
     "output_type": "execute_result"
    }
   ],
   "source": [
    "# 用标签选取多列\n",
    "data_df.loc[:, ['B', 2]]"
   ]
  },
  {
   "cell_type": "code",
   "execution_count": 9,
   "metadata": {},
   "outputs": [
    {
     "data": {
      "text/plain": [
       "0.8273503989195746"
      ]
     },
     "execution_count": 9,
     "metadata": {},
     "output_type": "execute_result"
    }
   ],
   "source": [
    "data_df.loc[0, 'B']"
   ]
  },
  {
   "cell_type": "code",
   "execution_count": 10,
   "metadata": {},
   "outputs": [
    {
     "data": {
      "text/plain": [
       "0    0.210793\n",
       "B    0.194477\n",
       "2    0.851307\n",
       "3    0.978129\n",
       "4    0.093404\n",
       "Name: 1, dtype: float64"
      ]
     },
     "execution_count": 10,
     "metadata": {},
     "output_type": "execute_result"
    }
   ],
   "source": [
    "# 按位置选择\n",
    "# 正数位置\n",
    "data_df.iloc[1]"
   ]
  },
  {
   "cell_type": "code",
   "execution_count": 11,
   "metadata": {},
   "outputs": [
    {
     "data": {
      "text/html": [
       "<div>\n",
       "<style scoped>\n",
       "    .dataframe tbody tr th:only-of-type {\n",
       "        vertical-align: middle;\n",
       "    }\n",
       "\n",
       "    .dataframe tbody tr th {\n",
       "        vertical-align: top;\n",
       "    }\n",
       "\n",
       "    .dataframe thead th {\n",
       "        text-align: right;\n",
       "    }\n",
       "</style>\n",
       "<table border=\"1\" class=\"dataframe\">\n",
       "  <thead>\n",
       "    <tr style=\"text-align: right;\">\n",
       "      <th></th>\n",
       "      <th>0</th>\n",
       "      <th>B</th>\n",
       "    </tr>\n",
       "  </thead>\n",
       "  <tbody>\n",
       "    <tr>\n",
       "      <th>3</th>\n",
       "      <td>0.56256</td>\n",
       "      <td>0.691917</td>\n",
       "    </tr>\n",
       "  </tbody>\n",
       "</table>\n",
       "</div>"
      ],
      "text/plain": [
       "         0         B\n",
       "3  0.56256  0.691917"
      ]
     },
     "execution_count": 11,
     "metadata": {},
     "output_type": "execute_result"
    }
   ],
   "source": [
    "# 整数切片\n",
    "data_df.iloc[3:4, 0:2]"
   ]
  },
  {
   "cell_type": "code",
   "execution_count": 12,
   "metadata": {},
   "outputs": [
    {
     "data": {
      "text/html": [
       "<div>\n",
       "<style scoped>\n",
       "    .dataframe tbody tr th:only-of-type {\n",
       "        vertical-align: middle;\n",
       "    }\n",
       "\n",
       "    .dataframe tbody tr th {\n",
       "        vertical-align: top;\n",
       "    }\n",
       "\n",
       "    .dataframe thead th {\n",
       "        text-align: right;\n",
       "    }\n",
       "</style>\n",
       "<table border=\"1\" class=\"dataframe\">\n",
       "  <thead>\n",
       "    <tr style=\"text-align: right;\">\n",
       "      <th></th>\n",
       "      <th>2</th>\n",
       "    </tr>\n",
       "  </thead>\n",
       "  <tbody>\n",
       "    <tr>\n",
       "      <th>0</th>\n",
       "      <td>0.761072</td>\n",
       "    </tr>\n",
       "    <tr>\n",
       "      <th>1</th>\n",
       "      <td>0.851307</td>\n",
       "    </tr>\n",
       "    <tr>\n",
       "      <th>2</th>\n",
       "      <td>0.126670</td>\n",
       "    </tr>\n",
       "    <tr>\n",
       "      <th>3</th>\n",
       "      <td>0.039514</td>\n",
       "    </tr>\n",
       "    <tr>\n",
       "      <th>4</th>\n",
       "      <td>0.986620</td>\n",
       "    </tr>\n",
       "  </tbody>\n",
       "</table>\n",
       "</div>"
      ],
      "text/plain": [
       "          2\n",
       "0  0.761072\n",
       "1  0.851307\n",
       "2  0.126670\n",
       "3  0.039514\n",
       "4  0.986620"
      ]
     },
     "execution_count": 12,
     "metadata": {},
     "output_type": "execute_result"
    }
   ],
   "source": [
    "# 显示列切片\n",
    "data_df.iloc[:, 2:3]"
   ]
  },
  {
   "cell_type": "code",
   "execution_count": 13,
   "metadata": {},
   "outputs": [
    {
     "data": {
      "text/plain": [
       "0.19447720641159294"
      ]
     },
     "execution_count": 13,
     "metadata": {},
     "output_type": "execute_result"
    }
   ],
   "source": [
    "# 显示提取值\n",
    "data_df.iloc[1, 1]"
   ]
  },
  {
   "cell_type": "code",
   "execution_count": 14,
   "metadata": {},
   "outputs": [
    {
     "data": {
      "text/plain": [
       "0.19447720641159294"
      ]
     },
     "execution_count": 14,
     "metadata": {},
     "output_type": "execute_result"
    }
   ],
   "source": [
    "# 快速访问标量，与上述方法等效\n",
    "data_df.iat[1, 1]"
   ]
  },
  {
   "cell_type": "code",
   "execution_count": 15,
   "metadata": {},
   "outputs": [
    {
     "data": {
      "text/html": [
       "<div>\n",
       "<style scoped>\n",
       "    .dataframe tbody tr th:only-of-type {\n",
       "        vertical-align: middle;\n",
       "    }\n",
       "\n",
       "    .dataframe tbody tr th {\n",
       "        vertical-align: top;\n",
       "    }\n",
       "\n",
       "    .dataframe thead th {\n",
       "        text-align: right;\n",
       "    }\n",
       "</style>\n",
       "<table border=\"1\" class=\"dataframe\">\n",
       "  <thead>\n",
       "    <tr style=\"text-align: right;\">\n",
       "      <th></th>\n",
       "      <th>0</th>\n",
       "      <th>B</th>\n",
       "      <th>2</th>\n",
       "      <th>3</th>\n",
       "      <th>4</th>\n",
       "    </tr>\n",
       "  </thead>\n",
       "  <tbody>\n",
       "    <tr>\n",
       "      <th>0</th>\n",
       "      <td>0.850338</td>\n",
       "      <td>0.827350</td>\n",
       "      <td>0.761072</td>\n",
       "      <td>0.172138</td>\n",
       "      <td>0.154913</td>\n",
       "    </tr>\n",
       "    <tr>\n",
       "      <th>2</th>\n",
       "      <td>0.786064</td>\n",
       "      <td>0.660980</td>\n",
       "      <td>0.126670</td>\n",
       "      <td>0.420458</td>\n",
       "      <td>0.061129</td>\n",
       "    </tr>\n",
       "    <tr>\n",
       "      <th>3</th>\n",
       "      <td>0.562560</td>\n",
       "      <td>0.691917</td>\n",
       "      <td>0.039514</td>\n",
       "      <td>0.725394</td>\n",
       "      <td>0.829249</td>\n",
       "    </tr>\n",
       "    <tr>\n",
       "      <th>4</th>\n",
       "      <td>0.670200</td>\n",
       "      <td>0.555227</td>\n",
       "      <td>0.986620</td>\n",
       "      <td>0.494989</td>\n",
       "      <td>0.323637</td>\n",
       "    </tr>\n",
       "  </tbody>\n",
       "</table>\n",
       "</div>"
      ],
      "text/plain": [
       "          0         B         2         3         4\n",
       "0  0.850338  0.827350  0.761072  0.172138  0.154913\n",
       "2  0.786064  0.660980  0.126670  0.420458  0.061129\n",
       "3  0.562560  0.691917  0.039514  0.725394  0.829249\n",
       "4  0.670200  0.555227  0.986620  0.494989  0.323637"
      ]
     },
     "execution_count": 15,
     "metadata": {},
     "output_type": "execute_result"
    }
   ],
   "source": [
    "# 布尔索引\n",
    "# 单列值选择\n",
    "data_df[data_df.B>0.2]"
   ]
  },
  {
   "cell_type": "code",
   "execution_count": 16,
   "metadata": {},
   "outputs": [
    {
     "data": {
      "text/html": [
       "<div>\n",
       "<style scoped>\n",
       "    .dataframe tbody tr th:only-of-type {\n",
       "        vertical-align: middle;\n",
       "    }\n",
       "\n",
       "    .dataframe tbody tr th {\n",
       "        vertical-align: top;\n",
       "    }\n",
       "\n",
       "    .dataframe thead th {\n",
       "        text-align: right;\n",
       "    }\n",
       "</style>\n",
       "<table border=\"1\" class=\"dataframe\">\n",
       "  <thead>\n",
       "    <tr style=\"text-align: right;\">\n",
       "      <th></th>\n",
       "      <th>0</th>\n",
       "      <th>B</th>\n",
       "      <th>2</th>\n",
       "      <th>3</th>\n",
       "      <th>4</th>\n",
       "    </tr>\n",
       "  </thead>\n",
       "  <tbody>\n",
       "    <tr>\n",
       "      <th>0</th>\n",
       "      <td>0.850338</td>\n",
       "      <td>0.827350</td>\n",
       "      <td>0.761072</td>\n",
       "      <td>NaN</td>\n",
       "      <td>NaN</td>\n",
       "    </tr>\n",
       "    <tr>\n",
       "      <th>1</th>\n",
       "      <td>NaN</td>\n",
       "      <td>NaN</td>\n",
       "      <td>0.851307</td>\n",
       "      <td>0.978129</td>\n",
       "      <td>NaN</td>\n",
       "    </tr>\n",
       "    <tr>\n",
       "      <th>2</th>\n",
       "      <td>0.786064</td>\n",
       "      <td>0.660980</td>\n",
       "      <td>NaN</td>\n",
       "      <td>NaN</td>\n",
       "      <td>NaN</td>\n",
       "    </tr>\n",
       "    <tr>\n",
       "      <th>3</th>\n",
       "      <td>0.562560</td>\n",
       "      <td>0.691917</td>\n",
       "      <td>NaN</td>\n",
       "      <td>0.725394</td>\n",
       "      <td>0.829249</td>\n",
       "    </tr>\n",
       "    <tr>\n",
       "      <th>4</th>\n",
       "      <td>0.670200</td>\n",
       "      <td>0.555227</td>\n",
       "      <td>0.986620</td>\n",
       "      <td>NaN</td>\n",
       "      <td>NaN</td>\n",
       "    </tr>\n",
       "  </tbody>\n",
       "</table>\n",
       "</div>"
      ],
      "text/plain": [
       "          0         B         2         3         4\n",
       "0  0.850338  0.827350  0.761072       NaN       NaN\n",
       "1       NaN       NaN  0.851307  0.978129       NaN\n",
       "2  0.786064  0.660980       NaN       NaN       NaN\n",
       "3  0.562560  0.691917       NaN  0.725394  0.829249\n",
       "4  0.670200  0.555227  0.986620       NaN       NaN"
      ]
     },
     "execution_count": 16,
     "metadata": {},
     "output_type": "execute_result"
    }
   ],
   "source": [
    "# 选择整个df中满足条件的值\n",
    "data_df[data_df > 0.5]"
   ]
  },
  {
   "cell_type": "code",
   "execution_count": 17,
   "metadata": {},
   "outputs": [
    {
     "data": {
      "text/html": [
       "<div>\n",
       "<style scoped>\n",
       "    .dataframe tbody tr th:only-of-type {\n",
       "        vertical-align: middle;\n",
       "    }\n",
       "\n",
       "    .dataframe tbody tr th {\n",
       "        vertical-align: top;\n",
       "    }\n",
       "\n",
       "    .dataframe thead th {\n",
       "        text-align: right;\n",
       "    }\n",
       "</style>\n",
       "<table border=\"1\" class=\"dataframe\">\n",
       "  <thead>\n",
       "    <tr style=\"text-align: right;\">\n",
       "      <th></th>\n",
       "      <th>0</th>\n",
       "      <th>B</th>\n",
       "      <th>2</th>\n",
       "      <th>3</th>\n",
       "      <th>4</th>\n",
       "      <th>E</th>\n",
       "    </tr>\n",
       "  </thead>\n",
       "  <tbody>\n",
       "    <tr>\n",
       "      <th>0</th>\n",
       "      <td>0.850338</td>\n",
       "      <td>0.827350</td>\n",
       "      <td>0.761072</td>\n",
       "      <td>0.172138</td>\n",
       "      <td>0.154913</td>\n",
       "      <td>one</td>\n",
       "    </tr>\n",
       "    <tr>\n",
       "      <th>1</th>\n",
       "      <td>0.210793</td>\n",
       "      <td>0.194477</td>\n",
       "      <td>0.851307</td>\n",
       "      <td>0.978129</td>\n",
       "      <td>0.093404</td>\n",
       "      <td>two</td>\n",
       "    </tr>\n",
       "    <tr>\n",
       "      <th>2</th>\n",
       "      <td>0.786064</td>\n",
       "      <td>0.660980</td>\n",
       "      <td>0.126670</td>\n",
       "      <td>0.420458</td>\n",
       "      <td>0.061129</td>\n",
       "      <td>three</td>\n",
       "    </tr>\n",
       "    <tr>\n",
       "      <th>3</th>\n",
       "      <td>0.562560</td>\n",
       "      <td>0.691917</td>\n",
       "      <td>0.039514</td>\n",
       "      <td>0.725394</td>\n",
       "      <td>0.829249</td>\n",
       "      <td>four</td>\n",
       "    </tr>\n",
       "    <tr>\n",
       "      <th>4</th>\n",
       "      <td>0.670200</td>\n",
       "      <td>0.555227</td>\n",
       "      <td>0.986620</td>\n",
       "      <td>0.494989</td>\n",
       "      <td>0.323637</td>\n",
       "      <td>five</td>\n",
       "    </tr>\n",
       "  </tbody>\n",
       "</table>\n",
       "</div>"
      ],
      "text/plain": [
       "          0         B         2         3         4      E\n",
       "0  0.850338  0.827350  0.761072  0.172138  0.154913    one\n",
       "1  0.210793  0.194477  0.851307  0.978129  0.093404    two\n",
       "2  0.786064  0.660980  0.126670  0.420458  0.061129  three\n",
       "3  0.562560  0.691917  0.039514  0.725394  0.829249   four\n",
       "4  0.670200  0.555227  0.986620  0.494989  0.323637   five"
      ]
     },
     "execution_count": 17,
     "metadata": {},
     "output_type": "execute_result"
    }
   ],
   "source": [
    "# 用isin()筛选\n",
    "df2 = data_df.copy()\n",
    "df2['E'] = ['one', 'two', 'three', 'four', 'five']\n",
    "df2"
   ]
  },
  {
   "cell_type": "code",
   "execution_count": 18,
   "metadata": {},
   "outputs": [
    {
     "data": {
      "text/html": [
       "<div>\n",
       "<style scoped>\n",
       "    .dataframe tbody tr th:only-of-type {\n",
       "        vertical-align: middle;\n",
       "    }\n",
       "\n",
       "    .dataframe tbody tr th {\n",
       "        vertical-align: top;\n",
       "    }\n",
       "\n",
       "    .dataframe thead th {\n",
       "        text-align: right;\n",
       "    }\n",
       "</style>\n",
       "<table border=\"1\" class=\"dataframe\">\n",
       "  <thead>\n",
       "    <tr style=\"text-align: right;\">\n",
       "      <th></th>\n",
       "      <th>0</th>\n",
       "      <th>B</th>\n",
       "      <th>2</th>\n",
       "      <th>3</th>\n",
       "      <th>4</th>\n",
       "      <th>E</th>\n",
       "    </tr>\n",
       "  </thead>\n",
       "  <tbody>\n",
       "    <tr>\n",
       "      <th>1</th>\n",
       "      <td>0.210793</td>\n",
       "      <td>0.194477</td>\n",
       "      <td>0.851307</td>\n",
       "      <td>0.978129</td>\n",
       "      <td>0.093404</td>\n",
       "      <td>two</td>\n",
       "    </tr>\n",
       "    <tr>\n",
       "      <th>4</th>\n",
       "      <td>0.670200</td>\n",
       "      <td>0.555227</td>\n",
       "      <td>0.986620</td>\n",
       "      <td>0.494989</td>\n",
       "      <td>0.323637</td>\n",
       "      <td>five</td>\n",
       "    </tr>\n",
       "  </tbody>\n",
       "</table>\n",
       "</div>"
      ],
      "text/plain": [
       "          0         B         2         3         4     E\n",
       "1  0.210793  0.194477  0.851307  0.978129  0.093404   two\n",
       "4  0.670200  0.555227  0.986620  0.494989  0.323637  five"
      ]
     },
     "execution_count": 18,
     "metadata": {},
     "output_type": "execute_result"
    }
   ],
   "source": [
    "df2[df2['E'].isin(['two', 'five'])]"
   ]
  },
  {
   "cell_type": "code",
   "execution_count": 19,
   "metadata": {},
   "outputs": [
    {
     "data": {
      "text/html": [
       "<div>\n",
       "<style scoped>\n",
       "    .dataframe tbody tr th:only-of-type {\n",
       "        vertical-align: middle;\n",
       "    }\n",
       "\n",
       "    .dataframe tbody tr th {\n",
       "        vertical-align: top;\n",
       "    }\n",
       "\n",
       "    .dataframe thead th {\n",
       "        text-align: right;\n",
       "    }\n",
       "</style>\n",
       "<table border=\"1\" class=\"dataframe\">\n",
       "  <thead>\n",
       "    <tr style=\"text-align: right;\">\n",
       "      <th></th>\n",
       "      <th>0</th>\n",
       "      <th>B</th>\n",
       "      <th>2</th>\n",
       "      <th>3</th>\n",
       "      <th>4</th>\n",
       "      <th>E</th>\n",
       "      <th>F</th>\n",
       "    </tr>\n",
       "  </thead>\n",
       "  <tbody>\n",
       "    <tr>\n",
       "      <th>0</th>\n",
       "      <td>0.850338</td>\n",
       "      <td>0.827350</td>\n",
       "      <td>0.761072</td>\n",
       "      <td>0.172138</td>\n",
       "      <td>0.154913</td>\n",
       "      <td>one</td>\n",
       "      <td>-1</td>\n",
       "    </tr>\n",
       "    <tr>\n",
       "      <th>1</th>\n",
       "      <td>0.210793</td>\n",
       "      <td>0.194477</td>\n",
       "      <td>0.851307</td>\n",
       "      <td>0.978129</td>\n",
       "      <td>0.093404</td>\n",
       "      <td>two</td>\n",
       "      <td>-2</td>\n",
       "    </tr>\n",
       "    <tr>\n",
       "      <th>2</th>\n",
       "      <td>0.786064</td>\n",
       "      <td>0.660980</td>\n",
       "      <td>0.126670</td>\n",
       "      <td>0.420458</td>\n",
       "      <td>0.061129</td>\n",
       "      <td>three</td>\n",
       "      <td>2</td>\n",
       "    </tr>\n",
       "    <tr>\n",
       "      <th>3</th>\n",
       "      <td>0.562560</td>\n",
       "      <td>0.691917</td>\n",
       "      <td>0.039514</td>\n",
       "      <td>0.725394</td>\n",
       "      <td>0.829249</td>\n",
       "      <td>four</td>\n",
       "      <td>3</td>\n",
       "    </tr>\n",
       "    <tr>\n",
       "      <th>4</th>\n",
       "      <td>0.670200</td>\n",
       "      <td>0.555227</td>\n",
       "      <td>0.986620</td>\n",
       "      <td>0.494989</td>\n",
       "      <td>0.323637</td>\n",
       "      <td>five</td>\n",
       "      <td>4</td>\n",
       "    </tr>\n",
       "  </tbody>\n",
       "</table>\n",
       "</div>"
      ],
      "text/plain": [
       "          0         B         2         3         4      E  F\n",
       "0  0.850338  0.827350  0.761072  0.172138  0.154913    one -1\n",
       "1  0.210793  0.194477  0.851307  0.978129  0.093404    two -2\n",
       "2  0.786064  0.660980  0.126670  0.420458  0.061129  three  2\n",
       "3  0.562560  0.691917  0.039514  0.725394  0.829249   four  3\n",
       "4  0.670200  0.555227  0.986620  0.494989  0.323637   five  4"
      ]
     },
     "execution_count": 19,
     "metadata": {},
     "output_type": "execute_result"
    }
   ],
   "source": [
    "# 赋值\n",
    "# 用索引自动对齐新增列的数据\n",
    "s1 = pd.Series([-1, -2, 2, 3, 4], index=np.arange(len(data_df)))\n",
    "df2['F'] = s1\n",
    "df2"
   ]
  },
  {
   "cell_type": "code",
   "execution_count": 20,
   "metadata": {},
   "outputs": [
    {
     "data": {
      "text/html": [
       "<div>\n",
       "<style scoped>\n",
       "    .dataframe tbody tr th:only-of-type {\n",
       "        vertical-align: middle;\n",
       "    }\n",
       "\n",
       "    .dataframe tbody tr th {\n",
       "        vertical-align: top;\n",
       "    }\n",
       "\n",
       "    .dataframe thead th {\n",
       "        text-align: right;\n",
       "    }\n",
       "</style>\n",
       "<table border=\"1\" class=\"dataframe\">\n",
       "  <thead>\n",
       "    <tr style=\"text-align: right;\">\n",
       "      <th></th>\n",
       "      <th>0</th>\n",
       "      <th>B</th>\n",
       "      <th>2</th>\n",
       "      <th>3</th>\n",
       "      <th>4</th>\n",
       "      <th>E</th>\n",
       "      <th>F</th>\n",
       "    </tr>\n",
       "  </thead>\n",
       "  <tbody>\n",
       "    <tr>\n",
       "      <th>0</th>\n",
       "      <td>0.850338</td>\n",
       "      <td>1.000000</td>\n",
       "      <td>0.761072</td>\n",
       "      <td>0.172138</td>\n",
       "      <td>0.154913</td>\n",
       "      <td>one</td>\n",
       "      <td>-1</td>\n",
       "    </tr>\n",
       "    <tr>\n",
       "      <th>1</th>\n",
       "      <td>0.210793</td>\n",
       "      <td>0.194477</td>\n",
       "      <td>0.851307</td>\n",
       "      <td>0.978129</td>\n",
       "      <td>0.093404</td>\n",
       "      <td>two</td>\n",
       "      <td>-2</td>\n",
       "    </tr>\n",
       "    <tr>\n",
       "      <th>2</th>\n",
       "      <td>0.786064</td>\n",
       "      <td>0.660980</td>\n",
       "      <td>0.126670</td>\n",
       "      <td>0.420458</td>\n",
       "      <td>0.061129</td>\n",
       "      <td>three</td>\n",
       "      <td>2</td>\n",
       "    </tr>\n",
       "    <tr>\n",
       "      <th>3</th>\n",
       "      <td>0.562560</td>\n",
       "      <td>0.691917</td>\n",
       "      <td>0.039514</td>\n",
       "      <td>0.725394</td>\n",
       "      <td>0.829249</td>\n",
       "      <td>four</td>\n",
       "      <td>3</td>\n",
       "    </tr>\n",
       "    <tr>\n",
       "      <th>4</th>\n",
       "      <td>0.670200</td>\n",
       "      <td>0.555227</td>\n",
       "      <td>0.986620</td>\n",
       "      <td>0.494989</td>\n",
       "      <td>0.323637</td>\n",
       "      <td>five</td>\n",
       "      <td>4</td>\n",
       "    </tr>\n",
       "  </tbody>\n",
       "</table>\n",
       "</div>"
      ],
      "text/plain": [
       "          0         B         2         3         4      E  F\n",
       "0  0.850338  1.000000  0.761072  0.172138  0.154913    one -1\n",
       "1  0.210793  0.194477  0.851307  0.978129  0.093404    two -2\n",
       "2  0.786064  0.660980  0.126670  0.420458  0.061129  three  2\n",
       "3  0.562560  0.691917  0.039514  0.725394  0.829249   four  3\n",
       "4  0.670200  0.555227  0.986620  0.494989  0.323637   five  4"
      ]
     },
     "execution_count": 20,
     "metadata": {},
     "output_type": "execute_result"
    }
   ],
   "source": [
    "# 按标签赋值\n",
    "df2.at[0, 'B'] = 1\n",
    "df2"
   ]
  },
  {
   "cell_type": "code",
   "execution_count": 21,
   "metadata": {},
   "outputs": [
    {
     "data": {
      "text/html": [
       "<div>\n",
       "<style scoped>\n",
       "    .dataframe tbody tr th:only-of-type {\n",
       "        vertical-align: middle;\n",
       "    }\n",
       "\n",
       "    .dataframe tbody tr th {\n",
       "        vertical-align: top;\n",
       "    }\n",
       "\n",
       "    .dataframe thead th {\n",
       "        text-align: right;\n",
       "    }\n",
       "</style>\n",
       "<table border=\"1\" class=\"dataframe\">\n",
       "  <thead>\n",
       "    <tr style=\"text-align: right;\">\n",
       "      <th></th>\n",
       "      <th>0</th>\n",
       "      <th>B</th>\n",
       "      <th>2</th>\n",
       "      <th>3</th>\n",
       "      <th>4</th>\n",
       "      <th>E</th>\n",
       "      <th>F</th>\n",
       "    </tr>\n",
       "  </thead>\n",
       "  <tbody>\n",
       "    <tr>\n",
       "      <th>0</th>\n",
       "      <td>1.000000</td>\n",
       "      <td>1.000000</td>\n",
       "      <td>0.761072</td>\n",
       "      <td>0.172138</td>\n",
       "      <td>0.154913</td>\n",
       "      <td>one</td>\n",
       "      <td>-1</td>\n",
       "    </tr>\n",
       "    <tr>\n",
       "      <th>1</th>\n",
       "      <td>0.210793</td>\n",
       "      <td>0.194477</td>\n",
       "      <td>0.851307</td>\n",
       "      <td>0.978129</td>\n",
       "      <td>0.093404</td>\n",
       "      <td>two</td>\n",
       "      <td>-2</td>\n",
       "    </tr>\n",
       "    <tr>\n",
       "      <th>2</th>\n",
       "      <td>0.786064</td>\n",
       "      <td>0.660980</td>\n",
       "      <td>0.126670</td>\n",
       "      <td>0.420458</td>\n",
       "      <td>0.061129</td>\n",
       "      <td>three</td>\n",
       "      <td>2</td>\n",
       "    </tr>\n",
       "    <tr>\n",
       "      <th>3</th>\n",
       "      <td>0.562560</td>\n",
       "      <td>0.691917</td>\n",
       "      <td>0.039514</td>\n",
       "      <td>0.725394</td>\n",
       "      <td>0.829249</td>\n",
       "      <td>four</td>\n",
       "      <td>3</td>\n",
       "    </tr>\n",
       "    <tr>\n",
       "      <th>4</th>\n",
       "      <td>0.670200</td>\n",
       "      <td>0.555227</td>\n",
       "      <td>0.986620</td>\n",
       "      <td>0.494989</td>\n",
       "      <td>0.323637</td>\n",
       "      <td>five</td>\n",
       "      <td>4</td>\n",
       "    </tr>\n",
       "  </tbody>\n",
       "</table>\n",
       "</div>"
      ],
      "text/plain": [
       "          0         B         2         3         4      E  F\n",
       "0  1.000000  1.000000  0.761072  0.172138  0.154913    one -1\n",
       "1  0.210793  0.194477  0.851307  0.978129  0.093404    two -2\n",
       "2  0.786064  0.660980  0.126670  0.420458  0.061129  three  2\n",
       "3  0.562560  0.691917  0.039514  0.725394  0.829249   four  3\n",
       "4  0.670200  0.555227  0.986620  0.494989  0.323637   five  4"
      ]
     },
     "execution_count": 21,
     "metadata": {},
     "output_type": "execute_result"
    }
   ],
   "source": [
    "# 按位置赋值\n",
    "df2.iat[0, 0] =1\n",
    "df2"
   ]
  },
  {
   "cell_type": "code",
   "execution_count": 22,
   "metadata": {},
   "outputs": [
    {
     "data": {
      "text/html": [
       "<div>\n",
       "<style scoped>\n",
       "    .dataframe tbody tr th:only-of-type {\n",
       "        vertical-align: middle;\n",
       "    }\n",
       "\n",
       "    .dataframe tbody tr th {\n",
       "        vertical-align: top;\n",
       "    }\n",
       "\n",
       "    .dataframe thead th {\n",
       "        text-align: right;\n",
       "    }\n",
       "</style>\n",
       "<table border=\"1\" class=\"dataframe\">\n",
       "  <thead>\n",
       "    <tr style=\"text-align: right;\">\n",
       "      <th></th>\n",
       "      <th>0</th>\n",
       "      <th>B</th>\n",
       "      <th>2</th>\n",
       "      <th>3</th>\n",
       "      <th>4</th>\n",
       "      <th>E</th>\n",
       "      <th>F</th>\n",
       "    </tr>\n",
       "  </thead>\n",
       "  <tbody>\n",
       "    <tr>\n",
       "      <th>0</th>\n",
       "      <td>1.000000</td>\n",
       "      <td>1.000000</td>\n",
       "      <td>0.761072</td>\n",
       "      <td>0.172138</td>\n",
       "      <td>0.154913</td>\n",
       "      <td>4</td>\n",
       "      <td>-1</td>\n",
       "    </tr>\n",
       "    <tr>\n",
       "      <th>1</th>\n",
       "      <td>0.210793</td>\n",
       "      <td>0.194477</td>\n",
       "      <td>0.851307</td>\n",
       "      <td>0.978129</td>\n",
       "      <td>0.093404</td>\n",
       "      <td>4</td>\n",
       "      <td>-2</td>\n",
       "    </tr>\n",
       "    <tr>\n",
       "      <th>2</th>\n",
       "      <td>0.786064</td>\n",
       "      <td>0.660980</td>\n",
       "      <td>0.126670</td>\n",
       "      <td>0.420458</td>\n",
       "      <td>0.061129</td>\n",
       "      <td>4</td>\n",
       "      <td>2</td>\n",
       "    </tr>\n",
       "    <tr>\n",
       "      <th>3</th>\n",
       "      <td>0.562560</td>\n",
       "      <td>0.691917</td>\n",
       "      <td>0.039514</td>\n",
       "      <td>0.725394</td>\n",
       "      <td>0.829249</td>\n",
       "      <td>4</td>\n",
       "      <td>3</td>\n",
       "    </tr>\n",
       "    <tr>\n",
       "      <th>4</th>\n",
       "      <td>0.670200</td>\n",
       "      <td>0.555227</td>\n",
       "      <td>0.986620</td>\n",
       "      <td>0.494989</td>\n",
       "      <td>0.323637</td>\n",
       "      <td>4</td>\n",
       "      <td>4</td>\n",
       "    </tr>\n",
       "  </tbody>\n",
       "</table>\n",
       "</div>"
      ],
      "text/plain": [
       "          0         B         2         3         4  E  F\n",
       "0  1.000000  1.000000  0.761072  0.172138  0.154913  4 -1\n",
       "1  0.210793  0.194477  0.851307  0.978129  0.093404  4 -2\n",
       "2  0.786064  0.660980  0.126670  0.420458  0.061129  4  2\n",
       "3  0.562560  0.691917  0.039514  0.725394  0.829249  4  3\n",
       "4  0.670200  0.555227  0.986620  0.494989  0.323637  4  4"
      ]
     },
     "execution_count": 22,
     "metadata": {},
     "output_type": "execute_result"
    }
   ],
   "source": [
    "# 按numpy赋值\n",
    "df2.loc[:, 'E'] = np.array([4] * len(df2))\n",
    "df2"
   ]
  },
  {
   "cell_type": "code",
   "execution_count": 23,
   "metadata": {},
   "outputs": [],
   "source": [
    "# 用where 条件赋值"
   ]
  },
  {
   "cell_type": "code",
   "execution_count": 24,
   "metadata": {},
   "outputs": [
    {
     "data": {
      "text/html": [
       "<div>\n",
       "<style scoped>\n",
       "    .dataframe tbody tr th:only-of-type {\n",
       "        vertical-align: middle;\n",
       "    }\n",
       "\n",
       "    .dataframe tbody tr th {\n",
       "        vertical-align: top;\n",
       "    }\n",
       "\n",
       "    .dataframe thead th {\n",
       "        text-align: right;\n",
       "    }\n",
       "</style>\n",
       "<table border=\"1\" class=\"dataframe\">\n",
       "  <thead>\n",
       "    <tr style=\"text-align: right;\">\n",
       "      <th></th>\n",
       "      <th>0</th>\n",
       "      <th>B</th>\n",
       "      <th>2</th>\n",
       "      <th>3</th>\n",
       "      <th>4</th>\n",
       "      <th>E</th>\n",
       "      <th>F</th>\n",
       "    </tr>\n",
       "  </thead>\n",
       "  <tbody>\n",
       "    <tr>\n",
       "      <th>0</th>\n",
       "      <td>-1.000000</td>\n",
       "      <td>-1.000000</td>\n",
       "      <td>-0.761072</td>\n",
       "      <td>-0.172138</td>\n",
       "      <td>-0.154913</td>\n",
       "      <td>-4</td>\n",
       "      <td>-1</td>\n",
       "    </tr>\n",
       "    <tr>\n",
       "      <th>1</th>\n",
       "      <td>-0.210793</td>\n",
       "      <td>-0.194477</td>\n",
       "      <td>-0.851307</td>\n",
       "      <td>-0.978129</td>\n",
       "      <td>-0.093404</td>\n",
       "      <td>-4</td>\n",
       "      <td>-2</td>\n",
       "    </tr>\n",
       "    <tr>\n",
       "      <th>2</th>\n",
       "      <td>-0.786064</td>\n",
       "      <td>-0.660980</td>\n",
       "      <td>-0.126670</td>\n",
       "      <td>-0.420458</td>\n",
       "      <td>-0.061129</td>\n",
       "      <td>-4</td>\n",
       "      <td>-2</td>\n",
       "    </tr>\n",
       "    <tr>\n",
       "      <th>3</th>\n",
       "      <td>-0.562560</td>\n",
       "      <td>-0.691917</td>\n",
       "      <td>-0.039514</td>\n",
       "      <td>-0.725394</td>\n",
       "      <td>-0.829249</td>\n",
       "      <td>-4</td>\n",
       "      <td>-3</td>\n",
       "    </tr>\n",
       "    <tr>\n",
       "      <th>4</th>\n",
       "      <td>-0.670200</td>\n",
       "      <td>-0.555227</td>\n",
       "      <td>-0.986620</td>\n",
       "      <td>-0.494989</td>\n",
       "      <td>-0.323637</td>\n",
       "      <td>-4</td>\n",
       "      <td>-4</td>\n",
       "    </tr>\n",
       "  </tbody>\n",
       "</table>\n",
       "</div>"
      ],
      "text/plain": [
       "          0         B         2         3         4  E  F\n",
       "0 -1.000000 -1.000000 -0.761072 -0.172138 -0.154913 -4 -1\n",
       "1 -0.210793 -0.194477 -0.851307 -0.978129 -0.093404 -4 -2\n",
       "2 -0.786064 -0.660980 -0.126670 -0.420458 -0.061129 -4 -2\n",
       "3 -0.562560 -0.691917 -0.039514 -0.725394 -0.829249 -4 -3\n",
       "4 -0.670200 -0.555227 -0.986620 -0.494989 -0.323637 -4 -4"
      ]
     },
     "execution_count": 24,
     "metadata": {},
     "output_type": "execute_result"
    }
   ],
   "source": [
    "df3 = df2.copy()\n",
    "df3[df3>0] = -df2\n",
    "df3"
   ]
  },
  {
   "cell_type": "code",
   "execution_count": 25,
   "metadata": {},
   "outputs": [
    {
     "data": {
      "text/plain": [
       "0    0.645924\n",
       "B    0.620520\n",
       "2    0.553037\n",
       "3    0.558222\n",
       "4    0.292466\n",
       "E    4.000000\n",
       "F    1.200000\n",
       "dtype: float64"
      ]
     },
     "execution_count": 25,
     "metadata": {},
     "output_type": "execute_result"
    }
   ],
   "source": [
    "### 运算\n",
    "# 列统计\n",
    "df2.mean()"
   ]
  },
  {
   "cell_type": "code",
   "execution_count": 26,
   "metadata": {},
   "outputs": [
    {
     "data": {
      "text/plain": [
       "0    0.869732\n",
       "1    0.618301\n",
       "2    1.150757\n",
       "3    1.406948\n",
       "4    1.575810\n",
       "dtype: float64"
      ]
     },
     "execution_count": 26,
     "metadata": {},
     "output_type": "execute_result"
    }
   ],
   "source": [
    "# 行统计\n",
    "df2.mean(1)"
   ]
  },
  {
   "cell_type": "code",
   "execution_count": 27,
   "metadata": {},
   "outputs": [
    {
     "data": {
      "text/html": [
       "<div>\n",
       "<style scoped>\n",
       "    .dataframe tbody tr th:only-of-type {\n",
       "        vertical-align: middle;\n",
       "    }\n",
       "\n",
       "    .dataframe tbody tr th {\n",
       "        vertical-align: top;\n",
       "    }\n",
       "\n",
       "    .dataframe thead th {\n",
       "        text-align: right;\n",
       "    }\n",
       "</style>\n",
       "<table border=\"1\" class=\"dataframe\">\n",
       "  <thead>\n",
       "    <tr style=\"text-align: right;\">\n",
       "      <th></th>\n",
       "      <th>0</th>\n",
       "      <th>B</th>\n",
       "      <th>2</th>\n",
       "      <th>3</th>\n",
       "      <th>4</th>\n",
       "      <th>E</th>\n",
       "      <th>F</th>\n",
       "    </tr>\n",
       "  </thead>\n",
       "  <tbody>\n",
       "    <tr>\n",
       "      <th>0</th>\n",
       "      <td>1.000000</td>\n",
       "      <td>1.000000</td>\n",
       "      <td>0.761072</td>\n",
       "      <td>0.172138</td>\n",
       "      <td>0.154913</td>\n",
       "      <td>4</td>\n",
       "      <td>-1</td>\n",
       "    </tr>\n",
       "    <tr>\n",
       "      <th>1</th>\n",
       "      <td>1.210793</td>\n",
       "      <td>1.194477</td>\n",
       "      <td>1.612379</td>\n",
       "      <td>1.150267</td>\n",
       "      <td>0.248316</td>\n",
       "      <td>8</td>\n",
       "      <td>-3</td>\n",
       "    </tr>\n",
       "    <tr>\n",
       "      <th>2</th>\n",
       "      <td>1.996857</td>\n",
       "      <td>1.855457</td>\n",
       "      <td>1.739049</td>\n",
       "      <td>1.570724</td>\n",
       "      <td>0.309446</td>\n",
       "      <td>12</td>\n",
       "      <td>-1</td>\n",
       "    </tr>\n",
       "    <tr>\n",
       "      <th>3</th>\n",
       "      <td>2.559418</td>\n",
       "      <td>2.547374</td>\n",
       "      <td>1.778563</td>\n",
       "      <td>2.296119</td>\n",
       "      <td>1.138695</td>\n",
       "      <td>16</td>\n",
       "      <td>2</td>\n",
       "    </tr>\n",
       "    <tr>\n",
       "      <th>4</th>\n",
       "      <td>3.229618</td>\n",
       "      <td>3.102601</td>\n",
       "      <td>2.765183</td>\n",
       "      <td>2.791108</td>\n",
       "      <td>1.462331</td>\n",
       "      <td>20</td>\n",
       "      <td>6</td>\n",
       "    </tr>\n",
       "  </tbody>\n",
       "</table>\n",
       "</div>"
      ],
      "text/plain": [
       "          0         B         2         3         4   E  F\n",
       "0  1.000000  1.000000  0.761072  0.172138  0.154913   4 -1\n",
       "1  1.210793  1.194477  1.612379  1.150267  0.248316   8 -3\n",
       "2  1.996857  1.855457  1.739049  1.570724  0.309446  12 -1\n",
       "3  2.559418  2.547374  1.778563  2.296119  1.138695  16  2\n",
       "4  3.229618  3.102601  2.765183  2.791108  1.462331  20  6"
      ]
     },
     "execution_count": 27,
     "metadata": {},
     "output_type": "execute_result"
    }
   ],
   "source": [
    "### apply 函数\n",
    "# 使用numpy cumsum函数 行累加\n",
    "df2.apply(np.cumsum)"
   ]
  },
  {
   "cell_type": "code",
   "execution_count": 28,
   "metadata": {},
   "outputs": [
    {
     "data": {
      "text/html": [
       "<div>\n",
       "<style scoped>\n",
       "    .dataframe tbody tr th:only-of-type {\n",
       "        vertical-align: middle;\n",
       "    }\n",
       "\n",
       "    .dataframe tbody tr th {\n",
       "        vertical-align: top;\n",
       "    }\n",
       "\n",
       "    .dataframe thead th {\n",
       "        text-align: right;\n",
       "    }\n",
       "</style>\n",
       "<table border=\"1\" class=\"dataframe\">\n",
       "  <thead>\n",
       "    <tr style=\"text-align: right;\">\n",
       "      <th></th>\n",
       "      <th>0</th>\n",
       "      <th>B</th>\n",
       "      <th>2</th>\n",
       "      <th>3</th>\n",
       "      <th>4</th>\n",
       "      <th>E</th>\n",
       "      <th>F</th>\n",
       "    </tr>\n",
       "  </thead>\n",
       "  <tbody>\n",
       "    <tr>\n",
       "      <th>0</th>\n",
       "      <td>1.000000</td>\n",
       "      <td>2.000000</td>\n",
       "      <td>2.761072</td>\n",
       "      <td>2.933210</td>\n",
       "      <td>3.088122</td>\n",
       "      <td>7.088122</td>\n",
       "      <td>6.088122</td>\n",
       "    </tr>\n",
       "    <tr>\n",
       "      <th>1</th>\n",
       "      <td>0.210793</td>\n",
       "      <td>0.405270</td>\n",
       "      <td>1.256578</td>\n",
       "      <td>2.234707</td>\n",
       "      <td>2.328110</td>\n",
       "      <td>6.328110</td>\n",
       "      <td>4.328110</td>\n",
       "    </tr>\n",
       "    <tr>\n",
       "      <th>2</th>\n",
       "      <td>0.786064</td>\n",
       "      <td>1.447044</td>\n",
       "      <td>1.573714</td>\n",
       "      <td>1.994172</td>\n",
       "      <td>2.055301</td>\n",
       "      <td>6.055301</td>\n",
       "      <td>8.055301</td>\n",
       "    </tr>\n",
       "    <tr>\n",
       "      <th>3</th>\n",
       "      <td>0.562560</td>\n",
       "      <td>1.254477</td>\n",
       "      <td>1.293991</td>\n",
       "      <td>2.019385</td>\n",
       "      <td>2.848634</td>\n",
       "      <td>6.848634</td>\n",
       "      <td>9.848634</td>\n",
       "    </tr>\n",
       "    <tr>\n",
       "      <th>4</th>\n",
       "      <td>0.670200</td>\n",
       "      <td>1.225427</td>\n",
       "      <td>2.212047</td>\n",
       "      <td>2.707036</td>\n",
       "      <td>3.030673</td>\n",
       "      <td>7.030673</td>\n",
       "      <td>11.030673</td>\n",
       "    </tr>\n",
       "  </tbody>\n",
       "</table>\n",
       "</div>"
      ],
      "text/plain": [
       "          0         B         2         3         4         E          F\n",
       "0  1.000000  2.000000  2.761072  2.933210  3.088122  7.088122   6.088122\n",
       "1  0.210793  0.405270  1.256578  2.234707  2.328110  6.328110   4.328110\n",
       "2  0.786064  1.447044  1.573714  1.994172  2.055301  6.055301   8.055301\n",
       "3  0.562560  1.254477  1.293991  2.019385  2.848634  6.848634   9.848634\n",
       "4  0.670200  1.225427  2.212047  2.707036  3.030673  7.030673  11.030673"
      ]
     },
     "execution_count": 28,
     "metadata": {},
     "output_type": "execute_result"
    }
   ],
   "source": [
    "# 使用numpy cumsum函数 列累加\n",
    "df2.apply(np.cumsum, axis=1)"
   ]
  },
  {
   "cell_type": "code",
   "execution_count": 29,
   "metadata": {},
   "outputs": [
    {
     "data": {
      "text/plain": [
       "4    5\n",
       "Name: E, dtype: int64"
      ]
     },
     "execution_count": 29,
     "metadata": {},
     "output_type": "execute_result"
    }
   ],
   "source": [
    "### 直方图\n",
    "df2['E'].value_counts()"
   ]
  },
  {
   "cell_type": "code",
   "execution_count": 42,
   "metadata": {},
   "outputs": [],
   "source": [
    "### String methods\n",
    "s = pd.Series([\"A\", \"   B\", \" C \", \" Aaba  \", \"Baca  \", np.nan, \"  CABA\", \"dog \", \"  cat  \"])"
   ]
  },
  {
   "cell_type": "code",
   "execution_count": 43,
   "metadata": {},
   "outputs": [
    {
     "data": {
      "text/plain": [
       "0          a\n",
       "1          b\n",
       "2         c \n",
       "3     aaba  \n",
       "4     baca  \n",
       "5        NaN\n",
       "6       caba\n",
       "7       dog \n",
       "8      cat  \n",
       "dtype: object"
      ]
     },
     "execution_count": 43,
     "metadata": {},
     "output_type": "execute_result"
    }
   ],
   "source": [
    "# str.lower 小写\n",
    "s.str.lower()"
   ]
  },
  {
   "cell_type": "code",
   "execution_count": 44,
   "metadata": {},
   "outputs": [
    {
     "data": {
      "text/plain": [
       "0          A\n",
       "1          B\n",
       "2         C \n",
       "3     AABA  \n",
       "4     BACA  \n",
       "5        NaN\n",
       "6       CABA\n",
       "7       DOG \n",
       "8      CAT  \n",
       "dtype: object"
      ]
     },
     "execution_count": 44,
     "metadata": {},
     "output_type": "execute_result"
    }
   ],
   "source": [
    "# str.upper 大写\n",
    "s.str.upper()"
   ]
  },
  {
   "cell_type": "code",
   "execution_count": 45,
   "metadata": {},
   "outputs": [
    {
     "data": {
      "text/plain": [
       "0    1.0\n",
       "1    4.0\n",
       "2    3.0\n",
       "3    7.0\n",
       "4    6.0\n",
       "5    NaN\n",
       "6    6.0\n",
       "7    4.0\n",
       "8    7.0\n",
       "dtype: float64"
      ]
     },
     "execution_count": 45,
     "metadata": {},
     "output_type": "execute_result"
    }
   ],
   "source": [
    "# str.len 长度\n",
    "s.str.len()"
   ]
  },
  {
   "cell_type": "code",
   "execution_count": 46,
   "metadata": {},
   "outputs": [
    {
     "data": {
      "text/plain": [
       "0       A\n",
       "1       B\n",
       "2       C\n",
       "3    Aaba\n",
       "4    Baca\n",
       "5     NaN\n",
       "6    CABA\n",
       "7     dog\n",
       "8     cat\n",
       "dtype: object"
      ]
     },
     "execution_count": 46,
     "metadata": {},
     "output_type": "execute_result"
    }
   ],
   "source": [
    "# str.strip 去字符串前后空格\n",
    "s.str.strip()"
   ]
  },
  {
   "cell_type": "code",
   "execution_count": 47,
   "metadata": {},
   "outputs": [
    {
     "data": {
      "text/plain": [
       "0         A\n",
       "1         B\n",
       "2        C \n",
       "3    Aaba  \n",
       "4    Baca  \n",
       "5       NaN\n",
       "6      CABA\n",
       "7      dog \n",
       "8     cat  \n",
       "dtype: object"
      ]
     },
     "execution_count": 47,
     "metadata": {},
     "output_type": "execute_result"
    }
   ],
   "source": [
    "# str.lstrip\n",
    "s.str.lstrip()"
   ]
  },
  {
   "cell_type": "code",
   "execution_count": 48,
   "metadata": {},
   "outputs": [
    {
     "data": {
      "text/plain": [
       "0         A\n",
       "1         B\n",
       "2         C\n",
       "3      Aaba\n",
       "4      Baca\n",
       "5       NaN\n",
       "6      CABA\n",
       "7       dog\n",
       "8       cat\n",
       "dtype: object"
      ]
     },
     "execution_count": 48,
     "metadata": {},
     "output_type": "execute_result"
    }
   ],
   "source": [
    "# str.rstrip\n",
    "s.str.rstrip()"
   ]
  },
  {
   "cell_type": "code",
   "execution_count": 51,
   "metadata": {},
   "outputs": [
    {
     "data": {
      "text/html": [
       "<div>\n",
       "<style scoped>\n",
       "    .dataframe tbody tr th:only-of-type {\n",
       "        vertical-align: middle;\n",
       "    }\n",
       "\n",
       "    .dataframe tbody tr th {\n",
       "        vertical-align: top;\n",
       "    }\n",
       "\n",
       "    .dataframe thead th {\n",
       "        text-align: right;\n",
       "    }\n",
       "</style>\n",
       "<table border=\"1\" class=\"dataframe\">\n",
       "  <thead>\n",
       "    <tr style=\"text-align: right;\">\n",
       "      <th></th>\n",
       "      <th>0</th>\n",
       "      <th>1</th>\n",
       "      <th>2</th>\n",
       "      <th>3</th>\n",
       "    </tr>\n",
       "  </thead>\n",
       "  <tbody>\n",
       "    <tr>\n",
       "      <th>0</th>\n",
       "      <td>-0.984479</td>\n",
       "      <td>-0.768828</td>\n",
       "      <td>-0.422254</td>\n",
       "      <td>0.376280</td>\n",
       "    </tr>\n",
       "    <tr>\n",
       "      <th>1</th>\n",
       "      <td>1.180189</td>\n",
       "      <td>0.764177</td>\n",
       "      <td>-1.369984</td>\n",
       "      <td>0.001906</td>\n",
       "    </tr>\n",
       "    <tr>\n",
       "      <th>2</th>\n",
       "      <td>0.506003</td>\n",
       "      <td>0.338982</td>\n",
       "      <td>-1.506230</td>\n",
       "      <td>-1.083128</td>\n",
       "    </tr>\n",
       "    <tr>\n",
       "      <th>3</th>\n",
       "      <td>0.285933</td>\n",
       "      <td>2.311890</td>\n",
       "      <td>-0.348407</td>\n",
       "      <td>-0.826455</td>\n",
       "    </tr>\n",
       "    <tr>\n",
       "      <th>4</th>\n",
       "      <td>-0.047875</td>\n",
       "      <td>1.448443</td>\n",
       "      <td>1.288866</td>\n",
       "      <td>-0.590317</td>\n",
       "    </tr>\n",
       "    <tr>\n",
       "      <th>5</th>\n",
       "      <td>-0.110149</td>\n",
       "      <td>0.343473</td>\n",
       "      <td>-0.123795</td>\n",
       "      <td>0.582544</td>\n",
       "    </tr>\n",
       "    <tr>\n",
       "      <th>6</th>\n",
       "      <td>-2.608231</td>\n",
       "      <td>0.065026</td>\n",
       "      <td>-0.589577</td>\n",
       "      <td>0.465944</td>\n",
       "    </tr>\n",
       "    <tr>\n",
       "      <th>7</th>\n",
       "      <td>-0.671572</td>\n",
       "      <td>0.510191</td>\n",
       "      <td>-0.361500</td>\n",
       "      <td>0.048771</td>\n",
       "    </tr>\n",
       "    <tr>\n",
       "      <th>8</th>\n",
       "      <td>1.461228</td>\n",
       "      <td>-0.721399</td>\n",
       "      <td>-0.625669</td>\n",
       "      <td>-1.252589</td>\n",
       "    </tr>\n",
       "    <tr>\n",
       "      <th>9</th>\n",
       "      <td>2.576888</td>\n",
       "      <td>-0.518297</td>\n",
       "      <td>-1.000757</td>\n",
       "      <td>-1.162009</td>\n",
       "    </tr>\n",
       "  </tbody>\n",
       "</table>\n",
       "</div>"
      ],
      "text/plain": [
       "          0         1         2         3\n",
       "0 -0.984479 -0.768828 -0.422254  0.376280\n",
       "1  1.180189  0.764177 -1.369984  0.001906\n",
       "2  0.506003  0.338982 -1.506230 -1.083128\n",
       "3  0.285933  2.311890 -0.348407 -0.826455\n",
       "4 -0.047875  1.448443  1.288866 -0.590317\n",
       "5 -0.110149  0.343473 -0.123795  0.582544\n",
       "6 -2.608231  0.065026 -0.589577  0.465944\n",
       "7 -0.671572  0.510191 -0.361500  0.048771\n",
       "8  1.461228 -0.721399 -0.625669 -1.252589\n",
       "9  2.576888 -0.518297 -1.000757 -1.162009"
      ]
     },
     "execution_count": 51,
     "metadata": {},
     "output_type": "execute_result"
    }
   ],
   "source": [
    "### 合并 merge\n",
    "# 结合 concat\n",
    "df = pd.DataFrame(np.random.randn(10, 4))\n",
    "df1 = df[:3]\n",
    "df2 = df[3:7]\n",
    "df3 = df[7:]\n",
    "df"
   ]
  },
  {
   "cell_type": "code",
   "execution_count": 52,
   "metadata": {},
   "outputs": [
    {
     "data": {
      "text/html": [
       "<div>\n",
       "<style scoped>\n",
       "    .dataframe tbody tr th:only-of-type {\n",
       "        vertical-align: middle;\n",
       "    }\n",
       "\n",
       "    .dataframe tbody tr th {\n",
       "        vertical-align: top;\n",
       "    }\n",
       "\n",
       "    .dataframe thead th {\n",
       "        text-align: right;\n",
       "    }\n",
       "</style>\n",
       "<table border=\"1\" class=\"dataframe\">\n",
       "  <thead>\n",
       "    <tr style=\"text-align: right;\">\n",
       "      <th></th>\n",
       "      <th>0</th>\n",
       "      <th>1</th>\n",
       "      <th>2</th>\n",
       "      <th>3</th>\n",
       "    </tr>\n",
       "  </thead>\n",
       "  <tbody>\n",
       "    <tr>\n",
       "      <th>0</th>\n",
       "      <td>-0.984479</td>\n",
       "      <td>-0.768828</td>\n",
       "      <td>-0.422254</td>\n",
       "      <td>0.376280</td>\n",
       "    </tr>\n",
       "    <tr>\n",
       "      <th>1</th>\n",
       "      <td>1.180189</td>\n",
       "      <td>0.764177</td>\n",
       "      <td>-1.369984</td>\n",
       "      <td>0.001906</td>\n",
       "    </tr>\n",
       "    <tr>\n",
       "      <th>2</th>\n",
       "      <td>0.506003</td>\n",
       "      <td>0.338982</td>\n",
       "      <td>-1.506230</td>\n",
       "      <td>-1.083128</td>\n",
       "    </tr>\n",
       "  </tbody>\n",
       "</table>\n",
       "</div>"
      ],
      "text/plain": [
       "          0         1         2         3\n",
       "0 -0.984479 -0.768828 -0.422254  0.376280\n",
       "1  1.180189  0.764177 -1.369984  0.001906\n",
       "2  0.506003  0.338982 -1.506230 -1.083128"
      ]
     },
     "execution_count": 52,
     "metadata": {},
     "output_type": "execute_result"
    }
   ],
   "source": [
    "df1"
   ]
  },
  {
   "cell_type": "code",
   "execution_count": 53,
   "metadata": {},
   "outputs": [
    {
     "data": {
      "text/html": [
       "<div>\n",
       "<style scoped>\n",
       "    .dataframe tbody tr th:only-of-type {\n",
       "        vertical-align: middle;\n",
       "    }\n",
       "\n",
       "    .dataframe tbody tr th {\n",
       "        vertical-align: top;\n",
       "    }\n",
       "\n",
       "    .dataframe thead th {\n",
       "        text-align: right;\n",
       "    }\n",
       "</style>\n",
       "<table border=\"1\" class=\"dataframe\">\n",
       "  <thead>\n",
       "    <tr style=\"text-align: right;\">\n",
       "      <th></th>\n",
       "      <th>0</th>\n",
       "      <th>1</th>\n",
       "      <th>2</th>\n",
       "      <th>3</th>\n",
       "    </tr>\n",
       "  </thead>\n",
       "  <tbody>\n",
       "    <tr>\n",
       "      <th>3</th>\n",
       "      <td>0.285933</td>\n",
       "      <td>2.311890</td>\n",
       "      <td>-0.348407</td>\n",
       "      <td>-0.826455</td>\n",
       "    </tr>\n",
       "    <tr>\n",
       "      <th>4</th>\n",
       "      <td>-0.047875</td>\n",
       "      <td>1.448443</td>\n",
       "      <td>1.288866</td>\n",
       "      <td>-0.590317</td>\n",
       "    </tr>\n",
       "    <tr>\n",
       "      <th>5</th>\n",
       "      <td>-0.110149</td>\n",
       "      <td>0.343473</td>\n",
       "      <td>-0.123795</td>\n",
       "      <td>0.582544</td>\n",
       "    </tr>\n",
       "    <tr>\n",
       "      <th>6</th>\n",
       "      <td>-2.608231</td>\n",
       "      <td>0.065026</td>\n",
       "      <td>-0.589577</td>\n",
       "      <td>0.465944</td>\n",
       "    </tr>\n",
       "  </tbody>\n",
       "</table>\n",
       "</div>"
      ],
      "text/plain": [
       "          0         1         2         3\n",
       "3  0.285933  2.311890 -0.348407 -0.826455\n",
       "4 -0.047875  1.448443  1.288866 -0.590317\n",
       "5 -0.110149  0.343473 -0.123795  0.582544\n",
       "6 -2.608231  0.065026 -0.589577  0.465944"
      ]
     },
     "execution_count": 53,
     "metadata": {},
     "output_type": "execute_result"
    }
   ],
   "source": [
    "df2"
   ]
  },
  {
   "cell_type": "code",
   "execution_count": 54,
   "metadata": {},
   "outputs": [
    {
     "data": {
      "text/html": [
       "<div>\n",
       "<style scoped>\n",
       "    .dataframe tbody tr th:only-of-type {\n",
       "        vertical-align: middle;\n",
       "    }\n",
       "\n",
       "    .dataframe tbody tr th {\n",
       "        vertical-align: top;\n",
       "    }\n",
       "\n",
       "    .dataframe thead th {\n",
       "        text-align: right;\n",
       "    }\n",
       "</style>\n",
       "<table border=\"1\" class=\"dataframe\">\n",
       "  <thead>\n",
       "    <tr style=\"text-align: right;\">\n",
       "      <th></th>\n",
       "      <th>0</th>\n",
       "      <th>1</th>\n",
       "      <th>2</th>\n",
       "      <th>3</th>\n",
       "    </tr>\n",
       "  </thead>\n",
       "  <tbody>\n",
       "    <tr>\n",
       "      <th>7</th>\n",
       "      <td>-0.671572</td>\n",
       "      <td>0.510191</td>\n",
       "      <td>-0.361500</td>\n",
       "      <td>0.048771</td>\n",
       "    </tr>\n",
       "    <tr>\n",
       "      <th>8</th>\n",
       "      <td>1.461228</td>\n",
       "      <td>-0.721399</td>\n",
       "      <td>-0.625669</td>\n",
       "      <td>-1.252589</td>\n",
       "    </tr>\n",
       "    <tr>\n",
       "      <th>9</th>\n",
       "      <td>2.576888</td>\n",
       "      <td>-0.518297</td>\n",
       "      <td>-1.000757</td>\n",
       "      <td>-1.162009</td>\n",
       "    </tr>\n",
       "  </tbody>\n",
       "</table>\n",
       "</div>"
      ],
      "text/plain": [
       "          0         1         2         3\n",
       "7 -0.671572  0.510191 -0.361500  0.048771\n",
       "8  1.461228 -0.721399 -0.625669 -1.252589\n",
       "9  2.576888 -0.518297 -1.000757 -1.162009"
      ]
     },
     "execution_count": 54,
     "metadata": {},
     "output_type": "execute_result"
    }
   ],
   "source": [
    "df3"
   ]
  },
  {
   "cell_type": "code",
   "execution_count": 55,
   "metadata": {},
   "outputs": [
    {
     "data": {
      "text/html": [
       "<div>\n",
       "<style scoped>\n",
       "    .dataframe tbody tr th:only-of-type {\n",
       "        vertical-align: middle;\n",
       "    }\n",
       "\n",
       "    .dataframe tbody tr th {\n",
       "        vertical-align: top;\n",
       "    }\n",
       "\n",
       "    .dataframe thead th {\n",
       "        text-align: right;\n",
       "    }\n",
       "</style>\n",
       "<table border=\"1\" class=\"dataframe\">\n",
       "  <thead>\n",
       "    <tr style=\"text-align: right;\">\n",
       "      <th></th>\n",
       "      <th>0</th>\n",
       "      <th>1</th>\n",
       "      <th>2</th>\n",
       "      <th>3</th>\n",
       "    </tr>\n",
       "  </thead>\n",
       "  <tbody>\n",
       "    <tr>\n",
       "      <th>0</th>\n",
       "      <td>-0.984479</td>\n",
       "      <td>-0.768828</td>\n",
       "      <td>-0.422254</td>\n",
       "      <td>0.376280</td>\n",
       "    </tr>\n",
       "    <tr>\n",
       "      <th>1</th>\n",
       "      <td>1.180189</td>\n",
       "      <td>0.764177</td>\n",
       "      <td>-1.369984</td>\n",
       "      <td>0.001906</td>\n",
       "    </tr>\n",
       "    <tr>\n",
       "      <th>2</th>\n",
       "      <td>0.506003</td>\n",
       "      <td>0.338982</td>\n",
       "      <td>-1.506230</td>\n",
       "      <td>-1.083128</td>\n",
       "    </tr>\n",
       "    <tr>\n",
       "      <th>3</th>\n",
       "      <td>0.285933</td>\n",
       "      <td>2.311890</td>\n",
       "      <td>-0.348407</td>\n",
       "      <td>-0.826455</td>\n",
       "    </tr>\n",
       "    <tr>\n",
       "      <th>4</th>\n",
       "      <td>-0.047875</td>\n",
       "      <td>1.448443</td>\n",
       "      <td>1.288866</td>\n",
       "      <td>-0.590317</td>\n",
       "    </tr>\n",
       "    <tr>\n",
       "      <th>5</th>\n",
       "      <td>-0.110149</td>\n",
       "      <td>0.343473</td>\n",
       "      <td>-0.123795</td>\n",
       "      <td>0.582544</td>\n",
       "    </tr>\n",
       "    <tr>\n",
       "      <th>6</th>\n",
       "      <td>-2.608231</td>\n",
       "      <td>0.065026</td>\n",
       "      <td>-0.589577</td>\n",
       "      <td>0.465944</td>\n",
       "    </tr>\n",
       "    <tr>\n",
       "      <th>7</th>\n",
       "      <td>-0.671572</td>\n",
       "      <td>0.510191</td>\n",
       "      <td>-0.361500</td>\n",
       "      <td>0.048771</td>\n",
       "    </tr>\n",
       "    <tr>\n",
       "      <th>8</th>\n",
       "      <td>1.461228</td>\n",
       "      <td>-0.721399</td>\n",
       "      <td>-0.625669</td>\n",
       "      <td>-1.252589</td>\n",
       "    </tr>\n",
       "    <tr>\n",
       "      <th>9</th>\n",
       "      <td>2.576888</td>\n",
       "      <td>-0.518297</td>\n",
       "      <td>-1.000757</td>\n",
       "      <td>-1.162009</td>\n",
       "    </tr>\n",
       "  </tbody>\n",
       "</table>\n",
       "</div>"
      ],
      "text/plain": [
       "          0         1         2         3\n",
       "0 -0.984479 -0.768828 -0.422254  0.376280\n",
       "1  1.180189  0.764177 -1.369984  0.001906\n",
       "2  0.506003  0.338982 -1.506230 -1.083128\n",
       "3  0.285933  2.311890 -0.348407 -0.826455\n",
       "4 -0.047875  1.448443  1.288866 -0.590317\n",
       "5 -0.110149  0.343473 -0.123795  0.582544\n",
       "6 -2.608231  0.065026 -0.589577  0.465944\n",
       "7 -0.671572  0.510191 -0.361500  0.048771\n",
       "8  1.461228 -0.721399 -0.625669 -1.252589\n",
       "9  2.576888 -0.518297 -1.000757 -1.162009"
      ]
     },
     "execution_count": 55,
     "metadata": {},
     "output_type": "execute_result"
    }
   ],
   "source": [
    "frames = [df1, df2, df3]\n",
    "pd.concat(frames)"
   ]
  },
  {
   "cell_type": "code",
   "execution_count": 57,
   "metadata": {},
   "outputs": [
    {
     "data": {
      "text/html": [
       "<div>\n",
       "<style scoped>\n",
       "    .dataframe tbody tr th:only-of-type {\n",
       "        vertical-align: middle;\n",
       "    }\n",
       "\n",
       "    .dataframe tbody tr th {\n",
       "        vertical-align: top;\n",
       "    }\n",
       "\n",
       "    .dataframe thead th {\n",
       "        text-align: right;\n",
       "    }\n",
       "</style>\n",
       "<table border=\"1\" class=\"dataframe\">\n",
       "  <thead>\n",
       "    <tr style=\"text-align: right;\">\n",
       "      <th></th>\n",
       "      <th>A</th>\n",
       "      <th>B</th>\n",
       "      <th>C</th>\n",
       "      <th>D</th>\n",
       "    </tr>\n",
       "  </thead>\n",
       "  <tbody>\n",
       "    <tr>\n",
       "      <th>0</th>\n",
       "      <td>foo</td>\n",
       "      <td>one</td>\n",
       "      <td>-0.401232</td>\n",
       "      <td>0.271865</td>\n",
       "    </tr>\n",
       "    <tr>\n",
       "      <th>1</th>\n",
       "      <td>bar</td>\n",
       "      <td>one</td>\n",
       "      <td>0.698431</td>\n",
       "      <td>1.338005</td>\n",
       "    </tr>\n",
       "    <tr>\n",
       "      <th>2</th>\n",
       "      <td>foo</td>\n",
       "      <td>two</td>\n",
       "      <td>-0.708902</td>\n",
       "      <td>2.145404</td>\n",
       "    </tr>\n",
       "    <tr>\n",
       "      <th>3</th>\n",
       "      <td>bar</td>\n",
       "      <td>three</td>\n",
       "      <td>0.082743</td>\n",
       "      <td>-1.170402</td>\n",
       "    </tr>\n",
       "    <tr>\n",
       "      <th>4</th>\n",
       "      <td>foo</td>\n",
       "      <td>two</td>\n",
       "      <td>-1.427212</td>\n",
       "      <td>0.646487</td>\n",
       "    </tr>\n",
       "    <tr>\n",
       "      <th>5</th>\n",
       "      <td>bar</td>\n",
       "      <td>two</td>\n",
       "      <td>1.356363</td>\n",
       "      <td>0.201892</td>\n",
       "    </tr>\n",
       "    <tr>\n",
       "      <th>6</th>\n",
       "      <td>foo</td>\n",
       "      <td>one</td>\n",
       "      <td>0.311519</td>\n",
       "      <td>0.052942</td>\n",
       "    </tr>\n",
       "    <tr>\n",
       "      <th>7</th>\n",
       "      <td>foo</td>\n",
       "      <td>three</td>\n",
       "      <td>1.243763</td>\n",
       "      <td>2.212839</td>\n",
       "    </tr>\n",
       "  </tbody>\n",
       "</table>\n",
       "</div>"
      ],
      "text/plain": [
       "     A      B         C         D\n",
       "0  foo    one -0.401232  0.271865\n",
       "1  bar    one  0.698431  1.338005\n",
       "2  foo    two -0.708902  2.145404\n",
       "3  bar  three  0.082743 -1.170402\n",
       "4  foo    two -1.427212  0.646487\n",
       "5  bar    two  1.356363  0.201892\n",
       "6  foo    one  0.311519  0.052942\n",
       "7  foo  three  1.243763  2.212839"
      ]
     },
     "execution_count": 57,
     "metadata": {},
     "output_type": "execute_result"
    }
   ],
   "source": [
    "### 分组 grouping   【分割】【应用】【组合】\n",
    "df = pd.DataFrame({\n",
    "    'A': ['foo', 'bar', 'foo', 'bar', 'foo', 'bar', 'foo', 'foo'],\n",
    "    'B': ['one', 'one', 'two', 'three', 'two', 'two', 'one', 'three'],\n",
    "    'C': np.random.randn(8),\n",
    "    'D': np.random.randn(8)\n",
    "})\n",
    "df"
   ]
  },
  {
   "cell_type": "code",
   "execution_count": 58,
   "metadata": {},
   "outputs": [
    {
     "data": {
      "text/html": [
       "<div>\n",
       "<style scoped>\n",
       "    .dataframe tbody tr th:only-of-type {\n",
       "        vertical-align: middle;\n",
       "    }\n",
       "\n",
       "    .dataframe tbody tr th {\n",
       "        vertical-align: top;\n",
       "    }\n",
       "\n",
       "    .dataframe thead th {\n",
       "        text-align: right;\n",
       "    }\n",
       "</style>\n",
       "<table border=\"1\" class=\"dataframe\">\n",
       "  <thead>\n",
       "    <tr style=\"text-align: right;\">\n",
       "      <th></th>\n",
       "      <th>C</th>\n",
       "      <th>D</th>\n",
       "    </tr>\n",
       "    <tr>\n",
       "      <th>A</th>\n",
       "      <th></th>\n",
       "      <th></th>\n",
       "    </tr>\n",
       "  </thead>\n",
       "  <tbody>\n",
       "    <tr>\n",
       "      <th>bar</th>\n",
       "      <td>2.137537</td>\n",
       "      <td>0.369495</td>\n",
       "    </tr>\n",
       "    <tr>\n",
       "      <th>foo</th>\n",
       "      <td>-0.982063</td>\n",
       "      <td>5.329537</td>\n",
       "    </tr>\n",
       "  </tbody>\n",
       "</table>\n",
       "</div>"
      ],
      "text/plain": [
       "            C         D\n",
       "A                      \n",
       "bar  2.137537  0.369495\n",
       "foo -0.982063  5.329537"
      ]
     },
     "execution_count": 58,
     "metadata": {},
     "output_type": "execute_result"
    }
   ],
   "source": [
    "df.groupby('A').sum()"
   ]
  },
  {
   "cell_type": "code",
   "execution_count": 59,
   "metadata": {
    "scrolled": true
   },
   "outputs": [
    {
     "data": {
      "text/html": [
       "<div>\n",
       "<style scoped>\n",
       "    .dataframe tbody tr th:only-of-type {\n",
       "        vertical-align: middle;\n",
       "    }\n",
       "\n",
       "    .dataframe tbody tr th {\n",
       "        vertical-align: top;\n",
       "    }\n",
       "\n",
       "    .dataframe thead th {\n",
       "        text-align: right;\n",
       "    }\n",
       "</style>\n",
       "<table border=\"1\" class=\"dataframe\">\n",
       "  <thead>\n",
       "    <tr style=\"text-align: right;\">\n",
       "      <th></th>\n",
       "      <th></th>\n",
       "      <th>C</th>\n",
       "      <th>D</th>\n",
       "    </tr>\n",
       "    <tr>\n",
       "      <th>A</th>\n",
       "      <th>B</th>\n",
       "      <th></th>\n",
       "      <th></th>\n",
       "    </tr>\n",
       "  </thead>\n",
       "  <tbody>\n",
       "    <tr>\n",
       "      <th rowspan=\"3\" valign=\"top\">bar</th>\n",
       "      <th>one</th>\n",
       "      <td>0.698431</td>\n",
       "      <td>1.338005</td>\n",
       "    </tr>\n",
       "    <tr>\n",
       "      <th>three</th>\n",
       "      <td>0.082743</td>\n",
       "      <td>-1.170402</td>\n",
       "    </tr>\n",
       "    <tr>\n",
       "      <th>two</th>\n",
       "      <td>1.356363</td>\n",
       "      <td>0.201892</td>\n",
       "    </tr>\n",
       "    <tr>\n",
       "      <th rowspan=\"3\" valign=\"top\">foo</th>\n",
       "      <th>one</th>\n",
       "      <td>-0.089712</td>\n",
       "      <td>0.324807</td>\n",
       "    </tr>\n",
       "    <tr>\n",
       "      <th>three</th>\n",
       "      <td>1.243763</td>\n",
       "      <td>2.212839</td>\n",
       "    </tr>\n",
       "    <tr>\n",
       "      <th>two</th>\n",
       "      <td>-2.136114</td>\n",
       "      <td>2.791891</td>\n",
       "    </tr>\n",
       "  </tbody>\n",
       "</table>\n",
       "</div>"
      ],
      "text/plain": [
       "                  C         D\n",
       "A   B                        \n",
       "bar one    0.698431  1.338005\n",
       "    three  0.082743 -1.170402\n",
       "    two    1.356363  0.201892\n",
       "foo one   -0.089712  0.324807\n",
       "    three  1.243763  2.212839\n",
       "    two   -2.136114  2.791891"
      ]
     },
     "execution_count": 59,
     "metadata": {},
     "output_type": "execute_result"
    }
   ],
   "source": [
    "df.groupby(['A', 'B']).sum()"
   ]
  },
  {
   "cell_type": "code",
   "execution_count": 60,
   "metadata": {},
   "outputs": [
    {
     "data": {
      "text/html": [
       "<div>\n",
       "<style scoped>\n",
       "    .dataframe tbody tr th:only-of-type {\n",
       "        vertical-align: middle;\n",
       "    }\n",
       "\n",
       "    .dataframe tbody tr th {\n",
       "        vertical-align: top;\n",
       "    }\n",
       "\n",
       "    .dataframe thead th {\n",
       "        text-align: right;\n",
       "    }\n",
       "</style>\n",
       "<table border=\"1\" class=\"dataframe\">\n",
       "  <thead>\n",
       "    <tr style=\"text-align: right;\">\n",
       "      <th></th>\n",
       "      <th>C</th>\n",
       "      <th>D</th>\n",
       "    </tr>\n",
       "    <tr>\n",
       "      <th>A</th>\n",
       "      <th></th>\n",
       "      <th></th>\n",
       "    </tr>\n",
       "  </thead>\n",
       "  <tbody>\n",
       "    <tr>\n",
       "      <th>foo</th>\n",
       "      <td>-0.982063</td>\n",
       "      <td>5.329537</td>\n",
       "    </tr>\n",
       "    <tr>\n",
       "      <th>bar</th>\n",
       "      <td>2.137537</td>\n",
       "      <td>0.369495</td>\n",
       "    </tr>\n",
       "  </tbody>\n",
       "</table>\n",
       "</div>"
      ],
      "text/plain": [
       "            C         D\n",
       "A                      \n",
       "foo -0.982063  5.329537\n",
       "bar  2.137537  0.369495"
      ]
     },
     "execution_count": 60,
     "metadata": {},
     "output_type": "execute_result"
    }
   ],
   "source": [
    "df.groupby('A', sort=False).sum()"
   ]
  },
  {
   "cell_type": "code",
   "execution_count": 61,
   "metadata": {},
   "outputs": [
    {
     "data": {
      "text/html": [
       "<div>\n",
       "<style scoped>\n",
       "    .dataframe tbody tr th:only-of-type {\n",
       "        vertical-align: middle;\n",
       "    }\n",
       "\n",
       "    .dataframe tbody tr th {\n",
       "        vertical-align: top;\n",
       "    }\n",
       "\n",
       "    .dataframe thead th {\n",
       "        text-align: right;\n",
       "    }\n",
       "</style>\n",
       "<table border=\"1\" class=\"dataframe\">\n",
       "  <thead>\n",
       "    <tr style=\"text-align: right;\">\n",
       "      <th></th>\n",
       "      <th>C</th>\n",
       "      <th>D</th>\n",
       "    </tr>\n",
       "    <tr>\n",
       "      <th>A</th>\n",
       "      <th></th>\n",
       "      <th></th>\n",
       "    </tr>\n",
       "  </thead>\n",
       "  <tbody>\n",
       "    <tr>\n",
       "      <th>bar</th>\n",
       "      <td>2.137537</td>\n",
       "      <td>0.369495</td>\n",
       "    </tr>\n",
       "    <tr>\n",
       "      <th>foo</th>\n",
       "      <td>-0.982063</td>\n",
       "      <td>5.329537</td>\n",
       "    </tr>\n",
       "  </tbody>\n",
       "</table>\n",
       "</div>"
      ],
      "text/plain": [
       "            C         D\n",
       "A                      \n",
       "bar  2.137537  0.369495\n",
       "foo -0.982063  5.329537"
      ]
     },
     "execution_count": 61,
     "metadata": {},
     "output_type": "execute_result"
    }
   ],
   "source": [
    "# group sort\n",
    "df.groupby('A', sort=True).sum()"
   ]
  },
  {
   "cell_type": "code",
   "execution_count": 65,
   "metadata": {},
   "outputs": [
    {
     "data": {
      "text/html": [
       "<div>\n",
       "<style scoped>\n",
       "    .dataframe tbody tr th:only-of-type {\n",
       "        vertical-align: middle;\n",
       "    }\n",
       "\n",
       "    .dataframe tbody tr th {\n",
       "        vertical-align: top;\n",
       "    }\n",
       "\n",
       "    .dataframe thead th {\n",
       "        text-align: right;\n",
       "    }\n",
       "</style>\n",
       "<table border=\"1\" class=\"dataframe\">\n",
       "  <thead>\n",
       "    <tr style=\"text-align: right;\">\n",
       "      <th></th>\n",
       "      <th>A</th>\n",
       "      <th>B</th>\n",
       "      <th>C</th>\n",
       "      <th>D</th>\n",
       "    </tr>\n",
       "  </thead>\n",
       "  <tbody>\n",
       "    <tr>\n",
       "      <th>0</th>\n",
       "      <td>foo</td>\n",
       "      <td>one</td>\n",
       "      <td>-0.401232</td>\n",
       "      <td>0.271865</td>\n",
       "    </tr>\n",
       "    <tr>\n",
       "      <th>2</th>\n",
       "      <td>foo</td>\n",
       "      <td>two</td>\n",
       "      <td>-0.708902</td>\n",
       "      <td>2.145404</td>\n",
       "    </tr>\n",
       "    <tr>\n",
       "      <th>4</th>\n",
       "      <td>foo</td>\n",
       "      <td>two</td>\n",
       "      <td>-1.427212</td>\n",
       "      <td>0.646487</td>\n",
       "    </tr>\n",
       "    <tr>\n",
       "      <th>6</th>\n",
       "      <td>foo</td>\n",
       "      <td>one</td>\n",
       "      <td>0.311519</td>\n",
       "      <td>0.052942</td>\n",
       "    </tr>\n",
       "    <tr>\n",
       "      <th>7</th>\n",
       "      <td>foo</td>\n",
       "      <td>three</td>\n",
       "      <td>1.243763</td>\n",
       "      <td>2.212839</td>\n",
       "    </tr>\n",
       "  </tbody>\n",
       "</table>\n",
       "</div>"
      ],
      "text/plain": [
       "     A      B         C         D\n",
       "0  foo    one -0.401232  0.271865\n",
       "2  foo    two -0.708902  2.145404\n",
       "4  foo    two -1.427212  0.646487\n",
       "6  foo    one  0.311519  0.052942\n",
       "7  foo  three  1.243763  2.212839"
      ]
     },
     "execution_count": 65,
     "metadata": {},
     "output_type": "execute_result"
    }
   ],
   "source": [
    "# get group\n",
    "df.groupby(['A']).get_group('foo')"
   ]
  },
  {
   "cell_type": "code",
   "execution_count": 70,
   "metadata": {},
   "outputs": [],
   "source": [
    "### 重塑 reshaping\n"
   ]
  },
  {
   "cell_type": "code",
   "execution_count": 68,
   "metadata": {},
   "outputs": [
    {
     "data": {
      "text/html": [
       "<div>\n",
       "<style scoped>\n",
       "    .dataframe tbody tr th:only-of-type {\n",
       "        vertical-align: middle;\n",
       "    }\n",
       "\n",
       "    .dataframe tbody tr th {\n",
       "        vertical-align: top;\n",
       "    }\n",
       "\n",
       "    .dataframe thead th {\n",
       "        text-align: right;\n",
       "    }\n",
       "</style>\n",
       "<table border=\"1\" class=\"dataframe\">\n",
       "  <thead>\n",
       "    <tr style=\"text-align: right;\">\n",
       "      <th></th>\n",
       "      <th>A</th>\n",
       "      <th>B</th>\n",
       "      <th>C</th>\n",
       "      <th>D</th>\n",
       "      <th>E</th>\n",
       "    </tr>\n",
       "  </thead>\n",
       "  <tbody>\n",
       "    <tr>\n",
       "      <th>0</th>\n",
       "      <td>one</td>\n",
       "      <td>A</td>\n",
       "      <td>foo</td>\n",
       "      <td>0.529080</td>\n",
       "      <td>-0.908042</td>\n",
       "    </tr>\n",
       "    <tr>\n",
       "      <th>1</th>\n",
       "      <td>one</td>\n",
       "      <td>B</td>\n",
       "      <td>foo</td>\n",
       "      <td>-0.612625</td>\n",
       "      <td>0.094620</td>\n",
       "    </tr>\n",
       "    <tr>\n",
       "      <th>2</th>\n",
       "      <td>two</td>\n",
       "      <td>C</td>\n",
       "      <td>foo</td>\n",
       "      <td>-0.343495</td>\n",
       "      <td>0.101766</td>\n",
       "    </tr>\n",
       "    <tr>\n",
       "      <th>3</th>\n",
       "      <td>three</td>\n",
       "      <td>A</td>\n",
       "      <td>bar</td>\n",
       "      <td>0.628813</td>\n",
       "      <td>-0.304044</td>\n",
       "    </tr>\n",
       "    <tr>\n",
       "      <th>4</th>\n",
       "      <td>one</td>\n",
       "      <td>B</td>\n",
       "      <td>bar</td>\n",
       "      <td>0.428206</td>\n",
       "      <td>0.884788</td>\n",
       "    </tr>\n",
       "    <tr>\n",
       "      <th>5</th>\n",
       "      <td>one</td>\n",
       "      <td>C</td>\n",
       "      <td>bar</td>\n",
       "      <td>-0.726080</td>\n",
       "      <td>1.093935</td>\n",
       "    </tr>\n",
       "    <tr>\n",
       "      <th>6</th>\n",
       "      <td>two</td>\n",
       "      <td>A</td>\n",
       "      <td>foo</td>\n",
       "      <td>-0.610213</td>\n",
       "      <td>-1.278978</td>\n",
       "    </tr>\n",
       "    <tr>\n",
       "      <th>7</th>\n",
       "      <td>three</td>\n",
       "      <td>B</td>\n",
       "      <td>foo</td>\n",
       "      <td>-1.666487</td>\n",
       "      <td>-1.207143</td>\n",
       "    </tr>\n",
       "    <tr>\n",
       "      <th>8</th>\n",
       "      <td>one</td>\n",
       "      <td>C</td>\n",
       "      <td>foo</td>\n",
       "      <td>-1.013970</td>\n",
       "      <td>-0.938535</td>\n",
       "    </tr>\n",
       "    <tr>\n",
       "      <th>9</th>\n",
       "      <td>one</td>\n",
       "      <td>A</td>\n",
       "      <td>bar</td>\n",
       "      <td>2.116674</td>\n",
       "      <td>-1.712389</td>\n",
       "    </tr>\n",
       "    <tr>\n",
       "      <th>10</th>\n",
       "      <td>two</td>\n",
       "      <td>B</td>\n",
       "      <td>bar</td>\n",
       "      <td>1.245916</td>\n",
       "      <td>-0.108622</td>\n",
       "    </tr>\n",
       "    <tr>\n",
       "      <th>11</th>\n",
       "      <td>three</td>\n",
       "      <td>C</td>\n",
       "      <td>bar</td>\n",
       "      <td>0.377103</td>\n",
       "      <td>-1.375321</td>\n",
       "    </tr>\n",
       "  </tbody>\n",
       "</table>\n",
       "</div>"
      ],
      "text/plain": [
       "        A  B    C         D         E\n",
       "0     one  A  foo  0.529080 -0.908042\n",
       "1     one  B  foo -0.612625  0.094620\n",
       "2     two  C  foo -0.343495  0.101766\n",
       "3   three  A  bar  0.628813 -0.304044\n",
       "4     one  B  bar  0.428206  0.884788\n",
       "5     one  C  bar -0.726080  1.093935\n",
       "6     two  A  foo -0.610213 -1.278978\n",
       "7   three  B  foo -1.666487 -1.207143\n",
       "8     one  C  foo -1.013970 -0.938535\n",
       "9     one  A  bar  2.116674 -1.712389\n",
       "10    two  B  bar  1.245916 -0.108622\n",
       "11  three  C  bar  0.377103 -1.375321"
      ]
     },
     "execution_count": 68,
     "metadata": {},
     "output_type": "execute_result"
    }
   ],
   "source": [
    "### 数据透视表 pivot tables\n",
    "df = pd.DataFrame({\n",
    "    'A': ['one', 'one', 'two', 'three'] * 3,\n",
    "    'B': ['A', 'B', 'C'] * 4,\n",
    "    'C': ['foo', 'foo', 'foo', 'bar', 'bar', 'bar'] * 2,\n",
    "    'D': np.random.randn(12),\n",
    "    'E': np.random.randn(12)\n",
    "})\n",
    "df"
   ]
  },
  {
   "cell_type": "code",
   "execution_count": 69,
   "metadata": {},
   "outputs": [
    {
     "data": {
      "text/html": [
       "<div>\n",
       "<style scoped>\n",
       "    .dataframe tbody tr th:only-of-type {\n",
       "        vertical-align: middle;\n",
       "    }\n",
       "\n",
       "    .dataframe tbody tr th {\n",
       "        vertical-align: top;\n",
       "    }\n",
       "\n",
       "    .dataframe thead th {\n",
       "        text-align: right;\n",
       "    }\n",
       "</style>\n",
       "<table border=\"1\" class=\"dataframe\">\n",
       "  <thead>\n",
       "    <tr style=\"text-align: right;\">\n",
       "      <th></th>\n",
       "      <th>C</th>\n",
       "      <th>bar</th>\n",
       "      <th>foo</th>\n",
       "    </tr>\n",
       "    <tr>\n",
       "      <th>A</th>\n",
       "      <th>B</th>\n",
       "      <th></th>\n",
       "      <th></th>\n",
       "    </tr>\n",
       "  </thead>\n",
       "  <tbody>\n",
       "    <tr>\n",
       "      <th rowspan=\"3\" valign=\"top\">one</th>\n",
       "      <th>A</th>\n",
       "      <td>2.116674</td>\n",
       "      <td>0.529080</td>\n",
       "    </tr>\n",
       "    <tr>\n",
       "      <th>B</th>\n",
       "      <td>0.428206</td>\n",
       "      <td>-0.612625</td>\n",
       "    </tr>\n",
       "    <tr>\n",
       "      <th>C</th>\n",
       "      <td>-0.726080</td>\n",
       "      <td>-1.013970</td>\n",
       "    </tr>\n",
       "    <tr>\n",
       "      <th rowspan=\"3\" valign=\"top\">three</th>\n",
       "      <th>A</th>\n",
       "      <td>0.628813</td>\n",
       "      <td>NaN</td>\n",
       "    </tr>\n",
       "    <tr>\n",
       "      <th>B</th>\n",
       "      <td>NaN</td>\n",
       "      <td>-1.666487</td>\n",
       "    </tr>\n",
       "    <tr>\n",
       "      <th>C</th>\n",
       "      <td>0.377103</td>\n",
       "      <td>NaN</td>\n",
       "    </tr>\n",
       "    <tr>\n",
       "      <th rowspan=\"3\" valign=\"top\">two</th>\n",
       "      <th>A</th>\n",
       "      <td>NaN</td>\n",
       "      <td>-0.610213</td>\n",
       "    </tr>\n",
       "    <tr>\n",
       "      <th>B</th>\n",
       "      <td>1.245916</td>\n",
       "      <td>NaN</td>\n",
       "    </tr>\n",
       "    <tr>\n",
       "      <th>C</th>\n",
       "      <td>NaN</td>\n",
       "      <td>-0.343495</td>\n",
       "    </tr>\n",
       "  </tbody>\n",
       "</table>\n",
       "</div>"
      ],
      "text/plain": [
       "C             bar       foo\n",
       "A     B                    \n",
       "one   A  2.116674  0.529080\n",
       "      B  0.428206 -0.612625\n",
       "      C -0.726080 -1.013970\n",
       "three A  0.628813       NaN\n",
       "      B       NaN -1.666487\n",
       "      C  0.377103       NaN\n",
       "two   A       NaN -0.610213\n",
       "      B  1.245916       NaN\n",
       "      C       NaN -0.343495"
      ]
     },
     "execution_count": 69,
     "metadata": {},
     "output_type": "execute_result"
    }
   ],
   "source": [
    "pd.pivot_table(df, values='D', index=['A', 'B'], columns=['C'])"
   ]
  },
  {
   "cell_type": "code",
   "execution_count": 73,
   "metadata": {},
   "outputs": [
    {
     "data": {
      "text/html": [
       "<div>\n",
       "<style scoped>\n",
       "    .dataframe tbody tr th:only-of-type {\n",
       "        vertical-align: middle;\n",
       "    }\n",
       "\n",
       "    .dataframe tbody tr th {\n",
       "        vertical-align: top;\n",
       "    }\n",
       "\n",
       "    .dataframe thead th {\n",
       "        text-align: right;\n",
       "    }\n",
       "</style>\n",
       "<table border=\"1\" class=\"dataframe\">\n",
       "  <thead>\n",
       "    <tr style=\"text-align: right;\">\n",
       "      <th></th>\n",
       "      <th></th>\n",
       "      <th>A</th>\n",
       "      <th>B</th>\n",
       "    </tr>\n",
       "    <tr>\n",
       "      <th>first</th>\n",
       "      <th>second</th>\n",
       "      <th></th>\n",
       "      <th></th>\n",
       "    </tr>\n",
       "  </thead>\n",
       "  <tbody>\n",
       "    <tr>\n",
       "      <th rowspan=\"2\" valign=\"top\">bar</th>\n",
       "      <th>one</th>\n",
       "      <td>-0.676922</td>\n",
       "      <td>0.127904</td>\n",
       "    </tr>\n",
       "    <tr>\n",
       "      <th>two</th>\n",
       "      <td>0.754914</td>\n",
       "      <td>2.227512</td>\n",
       "    </tr>\n",
       "    <tr>\n",
       "      <th rowspan=\"2\" valign=\"top\">baz</th>\n",
       "      <th>one</th>\n",
       "      <td>0.485387</td>\n",
       "      <td>0.214646</td>\n",
       "    </tr>\n",
       "    <tr>\n",
       "      <th>two</th>\n",
       "      <td>-0.851548</td>\n",
       "      <td>0.435578</td>\n",
       "    </tr>\n",
       "    <tr>\n",
       "      <th rowspan=\"2\" valign=\"top\">foo</th>\n",
       "      <th>one</th>\n",
       "      <td>0.122791</td>\n",
       "      <td>-1.048637</td>\n",
       "    </tr>\n",
       "    <tr>\n",
       "      <th>two</th>\n",
       "      <td>0.004868</td>\n",
       "      <td>1.351619</td>\n",
       "    </tr>\n",
       "    <tr>\n",
       "      <th rowspan=\"2\" valign=\"top\">qux</th>\n",
       "      <th>one</th>\n",
       "      <td>0.632977</td>\n",
       "      <td>0.516880</td>\n",
       "    </tr>\n",
       "    <tr>\n",
       "      <th>two</th>\n",
       "      <td>-0.436722</td>\n",
       "      <td>0.621636</td>\n",
       "    </tr>\n",
       "  </tbody>\n",
       "</table>\n",
       "</div>"
      ],
      "text/plain": [
       "                     A         B\n",
       "first second                    \n",
       "bar   one    -0.676922  0.127904\n",
       "      two     0.754914  2.227512\n",
       "baz   one     0.485387  0.214646\n",
       "      two    -0.851548  0.435578\n",
       "foo   one     0.122791 -1.048637\n",
       "      two     0.004868  1.351619\n",
       "qux   one     0.632977  0.516880\n",
       "      two    -0.436722  0.621636"
      ]
     },
     "execution_count": 73,
     "metadata": {},
     "output_type": "execute_result"
    }
   ],
   "source": [
    "### reshaping\n",
    "# stack\n",
    "tuples = list(zip(\n",
    "    *[['bar', 'bar', 'baz', 'baz','foo', 'foo', 'qux', 'qux'],\n",
    "      ['one', 'two', 'one', 'two','one', 'two', 'one', 'two']])\n",
    "             )\n",
    "index = pd.MultiIndex.from_tuples(tuples, names=['first', 'second'])\n",
    "df = pd.DataFrame(np.random.randn(8, 2), index=index, columns=['A', 'B'])\n",
    "df"
   ]
  },
  {
   "cell_type": "code",
   "execution_count": 74,
   "metadata": {},
   "outputs": [
    {
     "data": {
      "text/plain": [
       "MultiIndex([('bar', 'one'),\n",
       "            ('bar', 'two'),\n",
       "            ('baz', 'one'),\n",
       "            ('baz', 'two'),\n",
       "            ('foo', 'one'),\n",
       "            ('foo', 'two'),\n",
       "            ('qux', 'one'),\n",
       "            ('qux', 'two')],\n",
       "           names=['first', 'second'])"
      ]
     },
     "execution_count": 74,
     "metadata": {},
     "output_type": "execute_result"
    }
   ],
   "source": [
    "index"
   ]
  },
  {
   "cell_type": "code",
   "execution_count": 83,
   "metadata": {},
   "outputs": [
    {
     "data": {
      "text/plain": [
       "0   -1.061059\n",
       "1   -1.530383\n",
       "2   -0.951615\n",
       "3    0.108812\n",
       "4   -1.790537\n",
       "5    1.759991\n",
       "6   -1.693241\n",
       "7   -1.598324\n",
       "8   -0.836053\n",
       "9   -0.677303\n",
       "dtype: float64"
      ]
     },
     "execution_count": 83,
     "metadata": {},
     "output_type": "execute_result"
    }
   ],
   "source": [
    "data = np.random.randn(10)\n",
    "df = pd.Series(data, index=np.arange(len(data)))\n",
    "df"
   ]
  },
  {
   "cell_type": "code",
   "execution_count": 78,
   "metadata": {},
   "outputs": [
    {
     "data": {
      "text/plain": [
       "Int64Index([0, 1, 2, 3, 4, 5, 6, 7, 8, 9], dtype='int64')"
      ]
     },
     "execution_count": 78,
     "metadata": {},
     "output_type": "execute_result"
    }
   ],
   "source": [
    "df.index"
   ]
  },
  {
   "cell_type": "code",
   "execution_count": 84,
   "metadata": {},
   "outputs": [
    {
     "data": {
      "text/plain": [
       "b    1\n",
       "a    0\n",
       "c    2\n",
       "dtype: int64"
      ]
     },
     "execution_count": 84,
     "metadata": {},
     "output_type": "execute_result"
    }
   ],
   "source": [
    "d = {'b': 1, 'a': 0, 'c': 2}\n",
    "df = pd.Series(d)\n",
    "df"
   ]
  },
  {
   "cell_type": "code",
   "execution_count": 86,
   "metadata": {},
   "outputs": [
    {
     "data": {
      "text/plain": [
       "1"
      ]
     },
     "execution_count": 86,
     "metadata": {},
     "output_type": "execute_result"
    }
   ],
   "source": [
    "df['b']"
   ]
  },
  {
   "cell_type": "code",
   "execution_count": null,
   "metadata": {},
   "outputs": [],
   "source": []
  }
 ],
 "metadata": {
  "kernelspec": {
   "display_name": "Python 3",
   "language": "python",
   "name": "python3"
  },
  "language_info": {
   "codemirror_mode": {
    "name": "ipython",
    "version": 3
   },
   "file_extension": ".py",
   "mimetype": "text/x-python",
   "name": "python",
   "nbconvert_exporter": "python",
   "pygments_lexer": "ipython3",
   "version": "3.6.4"
  }
 },
 "nbformat": 4,
 "nbformat_minor": 2
}
